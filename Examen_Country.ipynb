{
 "cells": [
  {
   "cell_type": "code",
   "execution_count": 1,
   "id": "9e8623a7",
   "metadata": {},
   "outputs": [],
   "source": [
    "import findspark\n",
    "findspark.init()\n",
    "\n",
    "import pandas as pd\n",
    "import pyspark"
   ]
  },
  {
   "cell_type": "code",
   "execution_count": 35,
   "id": "9c1b89ef",
   "metadata": {},
   "outputs": [],
   "source": [
    "from pyspark.sql import functions as f\n",
    "import pandas as pd\n",
    "import matplotlib.pyplot as plt"
   ]
  },
  {
   "cell_type": "code",
   "execution_count": 3,
   "id": "2218951c",
   "metadata": {},
   "outputs": [
    {
     "name": "stdout",
     "output_type": "stream",
     "text": [
      "22/08/24 13:31:52 WARN Utils: Your hostname, MacBook-Air-de-Willians.local resolves to a loopback address: 127.0.0.1; using 192.168.18.9 instead (on interface en0)\n",
      "22/08/24 13:31:52 WARN Utils: Set SPARK_LOCAL_IP if you need to bind to another address\n"
     ]
    },
    {
     "name": "stderr",
     "output_type": "stream",
     "text": [
      "Setting default log level to \"WARN\".\n",
      "To adjust logging level use sc.setLogLevel(newLevel). For SparkR, use setLogLevel(newLevel).\n"
     ]
    },
    {
     "name": "stdout",
     "output_type": "stream",
     "text": [
      "22/08/24 13:31:53 WARN NativeCodeLoader: Unable to load native-hadoop library for your platform... using builtin-java classes where applicable\n",
      "22/08/24 13:31:54 WARN Utils: Service 'SparkUI' could not bind on port 4040. Attempting port 4041.\n"
     ]
    }
   ],
   "source": [
    "from pyspark.sql import SparkSession\n",
    "\n",
    "spark = SparkSession.builder\\\n",
    "        .master(\"local[*]\")\\\n",
    "        .appName('PySpark_Examen')\\\n",
    "        .getOrCreate()"
   ]
  },
  {
   "cell_type": "code",
   "execution_count": 4,
   "id": "950a887a",
   "metadata": {},
   "outputs": [
    {
     "name": "stderr",
     "output_type": "stream",
     "text": [
      "                                                                                \r"
     ]
    },
    {
     "name": "stdout",
     "output_type": "stream",
     "text": [
      "root\n",
      " |-- Country/Region: string (nullable = true)\n",
      " |-- Confirmed: string (nullable = true)\n",
      " |-- Deaths: string (nullable = true)\n",
      " |-- Recovered: string (nullable = true)\n",
      " |-- Active: string (nullable = true)\n",
      " |-- New cases: string (nullable = true)\n",
      " |-- New deaths: string (nullable = true)\n",
      " |-- New recovered: string (nullable = true)\n",
      " |-- Deaths / 100 Cases: string (nullable = true)\n",
      " |-- Recovered / 100 Cases: string (nullable = true)\n",
      " |-- Deaths / 100 Recovered: string (nullable = true)\n",
      " |-- Confirmed last week: string (nullable = true)\n",
      " |-- 1 week change: string (nullable = true)\n",
      " |-- 1 week % increase: string (nullable = true)\n",
      " |-- WHO Region: string (nullable = true)\n",
      "\n"
     ]
    }
   ],
   "source": [
    "dataCountry = spark.read.csv(\n",
    "    'data/archive/country_wise_latest.csv',\n",
    "    sep = ',',\n",
    "    header = True,\n",
    "    )\n",
    "\n",
    "dataCountry.printSchema()"
   ]
  },
  {
   "cell_type": "code",
   "execution_count": 6,
   "id": "ed42218a",
   "metadata": {
    "scrolled": true
   },
   "outputs": [
    {
     "name": "stdout",
     "output_type": "stream",
     "text": [
      "+--------------+---------+------+---------+------+---------+----------+-------------+------------------+---------------------+----------------------+-------------------+-------------+-----------------+--------------------+\n",
      "|Country/Region|Confirmed|Deaths|Recovered|Active|New cases|New deaths|New recovered|Deaths / 100 Cases|Recovered / 100 Cases|Deaths / 100 Recovered|Confirmed last week|1 week change|1 week % increase|          WHO Region|\n",
      "+--------------+---------+------+---------+------+---------+----------+-------------+------------------+---------------------+----------------------+-------------------+-------------+-----------------+--------------------+\n",
      "|   Afghanistan|    36263|  1269|    25198|  9796|      106|        10|           18|               3.5|                69.49|                  5.04|              35526|          737|             2.07|Eastern Mediterra...|\n",
      "|       Albania|     4880|   144|     2745|  1991|      117|         6|           63|              2.95|                56.25|                  5.25|               4171|          709|             17.0|              Europe|\n",
      "|       Algeria|    27973|  1163|    18837|  7973|      616|         8|          749|              4.16|                67.34|                  6.17|              23691|         4282|            18.07|              Africa|\n",
      "|       Andorra|      907|    52|      803|    52|       10|         0|            0|              5.73|                88.53|                  6.48|                884|           23|              2.6|              Europe|\n",
      "|        Angola|      950|    41|      242|   667|       18|         1|            0|              4.32|                25.47|                 16.94|                749|          201|            26.84|              Africa|\n",
      "+--------------+---------+------+---------+------+---------+----------+-------------+------------------+---------------------+----------------------+-------------------+-------------+-----------------+--------------------+\n",
      "only showing top 5 rows\n",
      "\n"
     ]
    }
   ],
   "source": [
    "dataCountry.show(5)"
   ]
  },
  {
   "cell_type": "markdown",
   "id": "2c5a0b1f",
   "metadata": {},
   "source": [
    "#### Actualizando la estructura de datos"
   ]
  },
  {
   "cell_type": "code",
   "execution_count": 15,
   "id": "882ed57c",
   "metadata": {},
   "outputs": [],
   "source": [
    "from pyspark.sql.types import *\n",
    "\n",
    "data_schema = [\n",
    "               StructField('Country/Region', StringType(), True),\n",
    "               StructField('Confirmed', IntegerType(), True),\n",
    "               StructField('Deaths', IntegerType(), True),\n",
    "               StructField('Recovered', IntegerType(), True),\n",
    "               StructField('Active', IntegerType(), True),\n",
    "               StructField('New cases', IntegerType(), True),\n",
    "               StructField('New deaths', IntegerType(), True),\n",
    "               StructField('New recovered', IntegerType(), True),\n",
    "               StructField('Deaths / 100 Cases', DoubleType(), True),\n",
    "               StructField('Recovered / 100 Cases', DoubleType(), True),\n",
    "               StructField('Deaths / 100 Recovered', DoubleType(), True),\n",
    "               StructField('Confirmed last week', IntegerType(), True),\n",
    "               StructField('1 week change', IntegerType(), True),\n",
    "               StructField('1 week % increase', DoubleType(), True),\n",
    "               StructField('WHO Region', StringType(), True),\n",
    "            ]\n",
    "\n",
    "final_struc = StructType(fields=data_schema)"
   ]
  },
  {
   "cell_type": "code",
   "execution_count": 16,
   "id": "40fc76aa",
   "metadata": {},
   "outputs": [],
   "source": [
    "data = spark.read.csv(\n",
    "    'data/archive/country_wise_latest.csv',\n",
    "    sep = ',',\n",
    "    header = True,\n",
    "    schema = final_struc\n",
    "    )"
   ]
  },
  {
   "cell_type": "code",
   "execution_count": 17,
   "id": "7b6a6bff",
   "metadata": {},
   "outputs": [
    {
     "name": "stdout",
     "output_type": "stream",
     "text": [
      "root\n",
      " |-- Country/Region: string (nullable = true)\n",
      " |-- Confirmed: integer (nullable = true)\n",
      " |-- Deaths: integer (nullable = true)\n",
      " |-- Recovered: integer (nullable = true)\n",
      " |-- Active: integer (nullable = true)\n",
      " |-- New cases: integer (nullable = true)\n",
      " |-- New deaths: integer (nullable = true)\n",
      " |-- New recovered: integer (nullable = true)\n",
      " |-- Deaths / 100 Cases: double (nullable = true)\n",
      " |-- Recovered / 100 Cases: double (nullable = true)\n",
      " |-- Deaths / 100 Recovered: double (nullable = true)\n",
      " |-- Confirmed last week: integer (nullable = true)\n",
      " |-- 1 week change: integer (nullable = true)\n",
      " |-- 1 week % increase: double (nullable = true)\n",
      " |-- WHO Region: string (nullable = true)\n",
      "\n"
     ]
    }
   ],
   "source": [
    "data.printSchema()"
   ]
  },
  {
   "cell_type": "code",
   "execution_count": 18,
   "id": "392ae9f9",
   "metadata": {},
   "outputs": [
    {
     "name": "stdout",
     "output_type": "stream",
     "text": [
      "+--------------+---------+------+---------+------+---------+----------+-------------+------------------+---------------------+----------------------+-------------------+-------------+-----------------+--------------------+\n",
      "|Country/Region|Confirmed|Deaths|Recovered|Active|New cases|New deaths|New recovered|Deaths / 100 Cases|Recovered / 100 Cases|Deaths / 100 Recovered|Confirmed last week|1 week change|1 week % increase|          WHO Region|\n",
      "+--------------+---------+------+---------+------+---------+----------+-------------+------------------+---------------------+----------------------+-------------------+-------------+-----------------+--------------------+\n",
      "|   Afghanistan|    36263|  1269|    25198|  9796|      106|        10|           18|               3.5|                69.49|                  5.04|              35526|          737|             2.07|Eastern Mediterra...|\n",
      "|       Albania|     4880|   144|     2745|  1991|      117|         6|           63|              2.95|                56.25|                  5.25|               4171|          709|             17.0|              Europe|\n",
      "|       Algeria|    27973|  1163|    18837|  7973|      616|         8|          749|              4.16|                67.34|                  6.17|              23691|         4282|            18.07|              Africa|\n",
      "|       Andorra|      907|    52|      803|    52|       10|         0|            0|              5.73|                88.53|                  6.48|                884|           23|              2.6|              Europe|\n",
      "|        Angola|      950|    41|      242|   667|       18|         1|            0|              4.32|                25.47|                 16.94|                749|          201|            26.84|              Africa|\n",
      "+--------------+---------+------+---------+------+---------+----------+-------------+------------------+---------------------+----------------------+-------------------+-------------+-----------------+--------------------+\n",
      "only showing top 5 rows\n",
      "\n"
     ]
    }
   ],
   "source": [
    "data.show(5)"
   ]
  },
  {
   "cell_type": "code",
   "execution_count": 55,
   "id": "5380b5ea",
   "metadata": {},
   "outputs": [],
   "source": [
    "data = data.withColumnRenamed('WHO Region', 'WHO_Region')"
   ]
  },
  {
   "cell_type": "code",
   "execution_count": 20,
   "id": "9a50a9d4",
   "metadata": {},
   "outputs": [
    {
     "name": "stderr",
     "output_type": "stream",
     "text": [
      "                                                                                \r"
     ]
    }
   ],
   "source": [
    "data.write.parquet('data/parquets/country')"
   ]
  },
  {
   "cell_type": "markdown",
   "id": "133ea385",
   "metadata": {},
   "source": [
    "Lectura formato pandas"
   ]
  },
  {
   "cell_type": "code",
   "execution_count": 21,
   "id": "8b2a8b48",
   "metadata": {},
   "outputs": [],
   "source": [
    "import findspark\n",
    "findspark.init()\n",
    "\n",
    "import pandas as pd\n",
    "import pyspark\n",
    "\n",
    "import pandas as pd\n",
    "import numpy as np"
   ]
  },
  {
   "cell_type": "code",
   "execution_count": 56,
   "id": "b7c94508",
   "metadata": {},
   "outputs": [
    {
     "data": {
      "text/html": [
       "<div>\n",
       "<style scoped>\n",
       "    .dataframe tbody tr th:only-of-type {\n",
       "        vertical-align: middle;\n",
       "    }\n",
       "\n",
       "    .dataframe tbody tr th {\n",
       "        vertical-align: top;\n",
       "    }\n",
       "\n",
       "    .dataframe thead th {\n",
       "        text-align: right;\n",
       "    }\n",
       "</style>\n",
       "<table border=\"1\" class=\"dataframe\">\n",
       "  <thead>\n",
       "    <tr style=\"text-align: right;\">\n",
       "      <th></th>\n",
       "      <th>summary</th>\n",
       "      <th>Country/Region</th>\n",
       "      <th>Confirmed</th>\n",
       "      <th>Deaths</th>\n",
       "      <th>Recovered</th>\n",
       "      <th>Active</th>\n",
       "      <th>New cases</th>\n",
       "      <th>New deaths</th>\n",
       "      <th>New recovered</th>\n",
       "      <th>Deaths / 100 Cases</th>\n",
       "      <th>Recovered / 100 Cases</th>\n",
       "      <th>Deaths / 100 Recovered</th>\n",
       "      <th>Confirmed last week</th>\n",
       "      <th>1 week change</th>\n",
       "      <th>1 week % increase</th>\n",
       "      <th>WHO_Region</th>\n",
       "    </tr>\n",
       "  </thead>\n",
       "  <tbody>\n",
       "    <tr>\n",
       "      <th>0</th>\n",
       "      <td>count</td>\n",
       "      <td>187</td>\n",
       "      <td>187</td>\n",
       "      <td>187</td>\n",
       "      <td>187</td>\n",
       "      <td>187</td>\n",
       "      <td>187</td>\n",
       "      <td>187</td>\n",
       "      <td>187</td>\n",
       "      <td>187</td>\n",
       "      <td>187</td>\n",
       "      <td>182</td>\n",
       "      <td>187</td>\n",
       "      <td>187</td>\n",
       "      <td>187</td>\n",
       "      <td>187</td>\n",
       "    </tr>\n",
       "    <tr>\n",
       "      <th>1</th>\n",
       "      <td>mean</td>\n",
       "      <td>None</td>\n",
       "      <td>88130.935828877</td>\n",
       "      <td>3497.51871657754</td>\n",
       "      <td>50631.48128342246</td>\n",
       "      <td>34001.935828877</td>\n",
       "      <td>1222.957219251337</td>\n",
       "      <td>28.9572192513369</td>\n",
       "      <td>933.812834224599</td>\n",
       "      <td>3.0195187165775392</td>\n",
       "      <td>64.82053475935835</td>\n",
       "      <td>40.558296703296705</td>\n",
       "      <td>78682.47593582887</td>\n",
       "      <td>9448.459893048128</td>\n",
       "      <td>13.606203208556153</td>\n",
       "      <td>None</td>\n",
       "    </tr>\n",
       "    <tr>\n",
       "      <th>2</th>\n",
       "      <td>stddev</td>\n",
       "      <td>None</td>\n",
       "      <td>383318.6638306154</td>\n",
       "      <td>14100.00248201848</td>\n",
       "      <td>190188.18964313966</td>\n",
       "      <td>213326.17337142891</td>\n",
       "      <td>5710.374790280563</td>\n",
       "      <td>120.03717295550823</td>\n",
       "      <td>4197.719634688254</td>\n",
       "      <td>3.454302488361351</td>\n",
       "      <td>26.287694261858874</td>\n",
       "      <td>336.6693570994989</td>\n",
       "      <td>338273.67656653706</td>\n",
       "      <td>47491.12768403526</td>\n",
       "      <td>24.50983774445599</td>\n",
       "      <td>None</td>\n",
       "    </tr>\n",
       "    <tr>\n",
       "      <th>3</th>\n",
       "      <td>min</td>\n",
       "      <td>Afghanistan</td>\n",
       "      <td>10</td>\n",
       "      <td>0</td>\n",
       "      <td>0</td>\n",
       "      <td>0</td>\n",
       "      <td>0</td>\n",
       "      <td>0</td>\n",
       "      <td>0</td>\n",
       "      <td>0.0</td>\n",
       "      <td>0.0</td>\n",
       "      <td>0.0</td>\n",
       "      <td>10</td>\n",
       "      <td>-47</td>\n",
       "      <td>-3.84</td>\n",
       "      <td>Africa</td>\n",
       "    </tr>\n",
       "    <tr>\n",
       "      <th>4</th>\n",
       "      <td>max</td>\n",
       "      <td>Zimbabwe</td>\n",
       "      <td>4290259</td>\n",
       "      <td>148011</td>\n",
       "      <td>1846641</td>\n",
       "      <td>2816444</td>\n",
       "      <td>56336</td>\n",
       "      <td>1076</td>\n",
       "      <td>33728</td>\n",
       "      <td>28.56</td>\n",
       "      <td>100.0</td>\n",
       "      <td>3259.26</td>\n",
       "      <td>3834677</td>\n",
       "      <td>455582</td>\n",
       "      <td>226.32</td>\n",
       "      <td>Western Pacific</td>\n",
       "    </tr>\n",
       "  </tbody>\n",
       "</table>\n",
       "</div>"
      ],
      "text/plain": [
       "  summary Country/Region          Confirmed             Deaths  \\\n",
       "0   count            187                187                187   \n",
       "1    mean           None    88130.935828877   3497.51871657754   \n",
       "2  stddev           None  383318.6638306154  14100.00248201848   \n",
       "3     min    Afghanistan                 10                  0   \n",
       "4     max       Zimbabwe            4290259             148011   \n",
       "\n",
       "            Recovered              Active          New cases  \\\n",
       "0                 187                 187                187   \n",
       "1   50631.48128342246     34001.935828877  1222.957219251337   \n",
       "2  190188.18964313966  213326.17337142891  5710.374790280563   \n",
       "3                   0                   0                  0   \n",
       "4             1846641             2816444              56336   \n",
       "\n",
       "           New deaths      New recovered  Deaths / 100 Cases  \\\n",
       "0                 187                187                 187   \n",
       "1    28.9572192513369   933.812834224599  3.0195187165775392   \n",
       "2  120.03717295550823  4197.719634688254   3.454302488361351   \n",
       "3                   0                  0                 0.0   \n",
       "4                1076              33728               28.56   \n",
       "\n",
       "  Recovered / 100 Cases Deaths / 100 Recovered Confirmed last week  \\\n",
       "0                   187                    182                 187   \n",
       "1     64.82053475935835     40.558296703296705   78682.47593582887   \n",
       "2    26.287694261858874      336.6693570994989  338273.67656653706   \n",
       "3                   0.0                    0.0                  10   \n",
       "4                 100.0                3259.26             3834677   \n",
       "\n",
       "       1 week change   1 week % increase       WHO_Region  \n",
       "0                187                 187              187  \n",
       "1  9448.459893048128  13.606203208556153             None  \n",
       "2  47491.12768403526   24.50983774445599             None  \n",
       "3                -47               -3.84           Africa  \n",
       "4             455582              226.32  Western Pacific  "
      ]
     },
     "execution_count": 56,
     "metadata": {},
     "output_type": "execute_result"
    }
   ],
   "source": [
    "data.describe().toPandas()"
   ]
  },
  {
   "cell_type": "markdown",
   "id": "7d40d84b",
   "metadata": {},
   "source": [
    "### Agrupando por Country el numero de 'Deaths', 'Active', 'New cases'"
   ]
  },
  {
   "cell_type": "code",
   "execution_count": 57,
   "id": "5673274e",
   "metadata": {},
   "outputs": [
    {
     "name": "stdout",
     "output_type": "stream",
     "text": [
      "+--------------------+------------------+------------------+------------------+\n",
      "|          WHO_Region|       avg(Deaths)|       avg(Active)|    avg(New cases)|\n",
      "+--------------------+------------------+------------------+------------------+\n",
      "|              Europe|3770.4285714285716|19547.428571428572|398.10714285714283|\n",
      "|     Western Pacific|          515.5625|         4838.0625|          205.5625|\n",
      "|              Africa|254.64583333333334|         5632.0625|253.66666666666666|\n",
      "|Eastern Mediterra...|1742.6818181818182|11409.318181818182| 564.0909090909091|\n",
      "|            Americas| 9792.342857142858|115083.94285714286| 3700.885714285714|\n",
      "|     South-East Asia|            4134.9|           63701.5|            4899.3|\n",
      "+--------------------+------------------+------------------+------------------+\n",
      "\n"
     ]
    }
   ],
   "source": [
    "data.select(['WHO_Region', 'Deaths', 'Active', 'New cases']).groupBy('WHO_Region').mean().show()"
   ]
  },
  {
   "cell_type": "code",
   "execution_count": 58,
   "id": "3fe4b102",
   "metadata": {},
   "outputs": [
    {
     "name": "stdout",
     "output_type": "stream",
     "text": [
      "+--------------+---------+------+---------+------+---------+----------+-------------+------------------+---------------------+----------------------+-------------------+-------------+-----------------+---------------+\n",
      "|Country/Region|Confirmed|Deaths|Recovered|Active|New cases|New deaths|New recovered|Deaths / 100 Cases|Recovered / 100 Cases|Deaths / 100 Recovered|Confirmed last week|1 week change|1 week % increase|     WHO_Region|\n",
      "+--------------+---------+------+---------+------+---------+----------+-------------+------------------+---------------------+----------------------+-------------------+-------------+-----------------+---------------+\n",
      "|     Argentina|   167416|  3059|    72575| 91782|     4890|       120|         2057|              1.83|                43.35|                  4.21|             130774|        36642|            28.02|       Americas|\n",
      "|    Bangladesh|   226225|  2965|   125683| 97577|     2772|        37|         1801|              1.31|                55.56|                  2.36|             207453|        18772|             9.05|South-East Asia|\n",
      "|        Canada|   116458|  8944|        0|107514|      682|        11|            0|              7.68|                  0.0|                  null|             112925|         3533|             3.13|       Americas|\n",
      "|      Colombia|   257101|  8777|   131161|117163|    16306|       508|        11494|              3.41|                51.02|                  6.69|             204005|        53096|            26.03|       Americas|\n",
      "|        France|   220352| 30212|    81212|108928|     2551|        17|          267|             13.71|                36.86|                  37.2|             214023|         6329|             2.96|         Europe|\n",
      "+--------------+---------+------+---------+------+---------+----------+-------------+------------------+---------------------+----------------------+-------------------+-------------+-----------------+---------------+\n",
      "only showing top 5 rows\n",
      "\n"
     ]
    }
   ],
   "source": [
    "data.filter(data.Active.between(73695.0, 201097.0)).show(5)"
   ]
  },
  {
   "cell_type": "markdown",
   "id": "10ec5d0e",
   "metadata": {},
   "source": [
    "# Visualizando datos"
   ]
  },
  {
   "cell_type": "code",
   "execution_count": 59,
   "id": "9e40f9f6",
   "metadata": {},
   "outputs": [],
   "source": [
    "sec_df =  data.select(['WHO_Region', 'Deaths', 'Active', 'New cases']).groupBy('WHO_Region').mean().toPandas()"
   ]
  },
  {
   "cell_type": "code",
   "execution_count": 60,
   "id": "f9c7d433",
   "metadata": {},
   "outputs": [
    {
     "data": {
      "text/html": [
       "<div>\n",
       "<style scoped>\n",
       "    .dataframe tbody tr th:only-of-type {\n",
       "        vertical-align: middle;\n",
       "    }\n",
       "\n",
       "    .dataframe tbody tr th {\n",
       "        vertical-align: top;\n",
       "    }\n",
       "\n",
       "    .dataframe thead th {\n",
       "        text-align: right;\n",
       "    }\n",
       "</style>\n",
       "<table border=\"1\" class=\"dataframe\">\n",
       "  <thead>\n",
       "    <tr style=\"text-align: right;\">\n",
       "      <th></th>\n",
       "      <th>WHO_Region</th>\n",
       "      <th>avg(Deaths)</th>\n",
       "      <th>avg(Active)</th>\n",
       "      <th>avg(New cases)</th>\n",
       "    </tr>\n",
       "  </thead>\n",
       "  <tbody>\n",
       "    <tr>\n",
       "      <th>0</th>\n",
       "      <td>Europe</td>\n",
       "      <td>3770.428571</td>\n",
       "      <td>19547.428571</td>\n",
       "      <td>398.107143</td>\n",
       "    </tr>\n",
       "    <tr>\n",
       "      <th>1</th>\n",
       "      <td>Western Pacific</td>\n",
       "      <td>515.562500</td>\n",
       "      <td>4838.062500</td>\n",
       "      <td>205.562500</td>\n",
       "    </tr>\n",
       "    <tr>\n",
       "      <th>2</th>\n",
       "      <td>Africa</td>\n",
       "      <td>254.645833</td>\n",
       "      <td>5632.062500</td>\n",
       "      <td>253.666667</td>\n",
       "    </tr>\n",
       "    <tr>\n",
       "      <th>3</th>\n",
       "      <td>Eastern Mediterranean</td>\n",
       "      <td>1742.681818</td>\n",
       "      <td>11409.318182</td>\n",
       "      <td>564.090909</td>\n",
       "    </tr>\n",
       "    <tr>\n",
       "      <th>4</th>\n",
       "      <td>Americas</td>\n",
       "      <td>9792.342857</td>\n",
       "      <td>115083.942857</td>\n",
       "      <td>3700.885714</td>\n",
       "    </tr>\n",
       "    <tr>\n",
       "      <th>5</th>\n",
       "      <td>South-East Asia</td>\n",
       "      <td>4134.900000</td>\n",
       "      <td>63701.500000</td>\n",
       "      <td>4899.300000</td>\n",
       "    </tr>\n",
       "  </tbody>\n",
       "</table>\n",
       "</div>"
      ],
      "text/plain": [
       "              WHO_Region  avg(Deaths)    avg(Active)  avg(New cases)\n",
       "0                 Europe  3770.428571   19547.428571      398.107143\n",
       "1        Western Pacific   515.562500    4838.062500      205.562500\n",
       "2                 Africa   254.645833    5632.062500      253.666667\n",
       "3  Eastern Mediterranean  1742.681818   11409.318182      564.090909\n",
       "4               Americas  9792.342857  115083.942857     3700.885714\n",
       "5        South-East Asia  4134.900000   63701.500000     4899.300000"
      ]
     },
     "execution_count": 60,
     "metadata": {},
     "output_type": "execute_result"
    }
   ],
   "source": [
    "sec_df"
   ]
  },
  {
   "cell_type": "code",
   "execution_count": 62,
   "id": "5c44b9ab",
   "metadata": {},
   "outputs": [
    {
     "data": {
      "text/plain": [
       "<AxesSubplot:xlabel='WHO_Region'>"
      ]
     },
     "execution_count": 62,
     "metadata": {},
     "output_type": "execute_result"
    },
    {
     "data": {
      "image/png": "[encoded data removed]",
      "text/plain": [
       "<Figure size 864x432 with 1 Axes>"
      ]
     },
     "metadata": {
      "needs_background": "light"
     },
     "output_type": "display_data"
    }
   ],
   "source": [
    "sec_df.plot(kind = 'bar', x='WHO_Region', y = sec_df.columns.tolist()[1:], figsize=(12, 6))"
   ]
  }
 ],
 "metadata": {
  "kernelspec": {
   "display_name": "Python 3 (ipykernel)",
   "language": "python",
   "name": "python3"
  },
  "language_info": {
   "codemirror_mode": {
    "name": "ipython",
    "version": 3
   },
   "file_extension": ".py",
   "mimetype": "text/x-python",
   "name": "python",
   "nbconvert_exporter": "python",
   "pygments_lexer": "ipython3",
   "version": "3.9.12"
  }
 },
 "nbformat": 4,
 "nbformat_minor": 5
}
