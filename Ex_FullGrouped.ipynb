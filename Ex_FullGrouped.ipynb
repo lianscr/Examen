{
 "cells": [
  {
   "cell_type": "code",
   "execution_count": 1,
   "id": "d6cbf067",
   "metadata": {},
   "outputs": [],
   "source": [
    "import findspark\n",
    "findspark.init()\n",
    "\n",
    "import pandas as pd\n",
    "import pyspark"
   ]
  },
  {
   "cell_type": "code",
   "execution_count": 2,
   "id": "ae5b6544",
   "metadata": {},
   "outputs": [],
   "source": [
    "from pyspark.sql import functions as f\n",
    "import pandas as pd\n",
    "import matplotlib.pyplot as plt"
   ]
  },
  {
   "cell_type": "code",
   "execution_count": 3,
   "id": "7d5403e4",
   "metadata": {},
   "outputs": [
    {
     "name": "stdout",
     "output_type": "stream",
     "text": [
      "22/08/30 10:19:09 WARN Utils: Your hostname, MacBook-Air-de-Willians.local resolves to a loopback address: 127.0.0.1; using 192.168.18.9 instead (on interface en0)\n",
      "22/08/30 10:19:09 WARN Utils: Set SPARK_LOCAL_IP if you need to bind to another address\n"
     ]
    },
    {
     "name": "stderr",
     "output_type": "stream",
     "text": [
      "Setting default log level to \"WARN\".\n",
      "To adjust logging level use sc.setLogLevel(newLevel). For SparkR, use setLogLevel(newLevel).\n"
     ]
    },
    {
     "name": "stdout",
     "output_type": "stream",
     "text": [
      "22/08/30 10:19:11 WARN NativeCodeLoader: Unable to load native-hadoop library for your platform... using builtin-java classes where applicable\n",
      "22/08/30 10:19:16 WARN Utils: Service 'SparkUI' could not bind on port 4040. Attempting port 4041.\n"
     ]
    }
   ],
   "source": [
    "from pyspark.sql import SparkSession\n",
    "\n",
    "spark = SparkSession.builder\\\n",
    "        .master(\"local[*]\")\\\n",
    "        .appName('PySpark_FullGrouped')\\\n",
    "        .getOrCreate()"
   ]
  },
  {
   "cell_type": "code",
   "execution_count": 4,
   "id": "45e01c82",
   "metadata": {},
   "outputs": [
    {
     "name": "stderr",
     "output_type": "stream",
     "text": [
      "                                                                                \r"
     ]
    },
    {
     "name": "stdout",
     "output_type": "stream",
     "text": [
      "root\n",
      " |-- Date: string (nullable = true)\n",
      " |-- Country/Region: string (nullable = true)\n",
      " |-- Confirmed: string (nullable = true)\n",
      " |-- Deaths: string (nullable = true)\n",
      " |-- Recovered: string (nullable = true)\n",
      " |-- Active: string (nullable = true)\n",
      " |-- New cases: string (nullable = true)\n",
      " |-- New deaths: string (nullable = true)\n",
      " |-- New recovered: string (nullable = true)\n",
      " |-- WHO Region: string (nullable = true)\n",
      "\n"
     ]
    }
   ],
   "source": [
    "dataGrouped = spark.read.csv(\n",
    "    'archive/full_grouped.csv',\n",
    "    sep = ',',\n",
    "    header = True,\n",
    "    )\n",
    "\n",
    "dataGrouped.printSchema()"
   ]
  },
  {
   "cell_type": "code",
   "execution_count": 5,
   "id": "c19d3ad1",
   "metadata": {},
   "outputs": [
    {
     "name": "stdout",
     "output_type": "stream",
     "text": [
      "+----------+-------------------+---------+------+---------+------+---------+----------+-------------+--------------------+\n",
      "|      Date|     Country/Region|Confirmed|Deaths|Recovered|Active|New cases|New deaths|New recovered|          WHO Region|\n",
      "+----------+-------------------+---------+------+---------+------+---------+----------+-------------+--------------------+\n",
      "|2020-01-22|        Afghanistan|        0|     0|        0|     0|        0|         0|            0|Eastern Mediterra...|\n",
      "|2020-01-22|            Albania|        0|     0|        0|     0|        0|         0|            0|              Europe|\n",
      "|2020-01-22|            Algeria|        0|     0|        0|     0|        0|         0|            0|              Africa|\n",
      "|2020-01-22|            Andorra|        0|     0|        0|     0|        0|         0|            0|              Europe|\n",
      "|2020-01-22|             Angola|        0|     0|        0|     0|        0|         0|            0|              Africa|\n",
      "|2020-01-22|Antigua and Barbuda|        0|     0|        0|     0|        0|         0|            0|            Americas|\n",
      "+----------+-------------------+---------+------+---------+------+---------+----------+-------------+--------------------+\n",
      "only showing top 6 rows\n",
      "\n"
     ]
    }
   ],
   "source": [
    "dataGrouped.show(6)"
   ]
  },
  {
   "cell_type": "code",
   "execution_count": 6,
   "id": "222f1af7",
   "metadata": {},
   "outputs": [],
   "source": [
    "from pyspark.sql.types import *\n",
    "\n",
    "data_schema = [\n",
    "               StructField('Date', DateType(), True),\n",
    "               StructField('Country/Region', IntegerType(), True),\n",
    "               StructField('Confirmed', IntegerType(), True),\n",
    "               StructField('Deaths', IntegerType(), True),\n",
    "               StructField('Recovered', IntegerType(), True),\n",
    "               StructField('Active', IntegerType(), True),\n",
    "               StructField('New cases', IntegerType(), True),\n",
    "               StructField('New deaths', IntegerType(), True),\n",
    "               StructField('New recovered', IntegerType(), True),\n",
    "               StructField('WHO Region', StringType(), True),\n",
    "            ]\n",
    "\n",
    "final_struc = StructType(fields=data_schema)"
   ]
  },
  {
   "cell_type": "code",
   "execution_count": 7,
   "id": "8d0e0c58",
   "metadata": {},
   "outputs": [],
   "source": [
    "dataFgrouped = spark.read.csv(\n",
    "    'archive/full_grouped.csv',\n",
    "    sep = ',',\n",
    "    header = True,\n",
    "    schema = final_struc\n",
    "    )"
   ]
  },
  {
   "cell_type": "code",
   "execution_count": 8,
   "id": "1557bff3",
   "metadata": {},
   "outputs": [
    {
     "name": "stdout",
     "output_type": "stream",
     "text": [
      "root\n",
      " |-- Date: date (nullable = true)\n",
      " |-- Country/Region: integer (nullable = true)\n",
      " |-- Confirmed: integer (nullable = true)\n",
      " |-- Deaths: integer (nullable = true)\n",
      " |-- Recovered: integer (nullable = true)\n",
      " |-- Active: integer (nullable = true)\n",
      " |-- New cases: integer (nullable = true)\n",
      " |-- New deaths: integer (nullable = true)\n",
      " |-- New recovered: integer (nullable = true)\n",
      " |-- WHO Region: string (nullable = true)\n",
      "\n"
     ]
    }
   ],
   "source": [
    "dataFgrouped.printSchema()"
   ]
  },
  {
   "cell_type": "code",
   "execution_count": 9,
   "id": "15ae27a7",
   "metadata": {},
   "outputs": [
    {
     "name": "stdout",
     "output_type": "stream",
     "text": [
      "+----------+--------------+---------+------+---------+------+---------+----------+-------------+--------------------+\n",
      "|      Date|Country/Region|Confirmed|Deaths|Recovered|Active|New cases|New deaths|New recovered|          WHO Region|\n",
      "+----------+--------------+---------+------+---------+------+---------+----------+-------------+--------------------+\n",
      "|2020-01-22|          null|        0|     0|        0|     0|        0|         0|            0|Eastern Mediterra...|\n",
      "|2020-01-22|          null|        0|     0|        0|     0|        0|         0|            0|              Europe|\n",
      "|2020-01-22|          null|        0|     0|        0|     0|        0|         0|            0|              Africa|\n",
      "|2020-01-22|          null|        0|     0|        0|     0|        0|         0|            0|              Europe|\n",
      "|2020-01-22|          null|        0|     0|        0|     0|        0|         0|            0|              Africa|\n",
      "|2020-01-22|          null|        0|     0|        0|     0|        0|         0|            0|            Americas|\n",
      "+----------+--------------+---------+------+---------+------+---------+----------+-------------+--------------------+\n",
      "only showing top 6 rows\n",
      "\n"
     ]
    }
   ],
   "source": [
    "dataFgrouped.show(6)"
   ]
  },
  {
   "cell_type": "markdown",
   "id": "778166b1",
   "metadata": {},
   "source": [
    "### Generando file parquet"
   ]
  },
  {
   "cell_type": "code",
   "execution_count": 11,
   "id": "17730e2f",
   "metadata": {},
   "outputs": [
    {
     "name": "stderr",
     "output_type": "stream",
     "text": [
      "                                                                                \r"
     ]
    }
   ],
   "source": [
    "dataFgrouped.write.save('data/parquets/fullGrouped', format='parquet')"
   ]
  },
  {
   "cell_type": "code",
   "execution_count": null,
   "id": "01155afb",
   "metadata": {},
   "outputs": [
    {
     "name": "stderr",
     "output_type": "stream",
     "text": [
      "\r",
      "[Stage 4:>                                                          (0 + 1) / 1]\r"
     ]
    }
   ],
   "source": [
    "dataFgrouped.describe().toPandas()"
   ]
  },
  {
   "cell_type": "markdown",
   "id": "eefc4a39",
   "metadata": {},
   "source": [
    "### Agrupando datos por WHO Region"
   ]
  },
  {
   "cell_type": "code",
   "execution_count": null,
   "id": "35562bcf",
   "metadata": {},
   "outputs": [],
   "source": [
    "dataFgrouped.select(['WHO Region', 'Confirmed', 'Deaths', 'Recovered', 'Active']).groupBy('WHO Region').mean().show()"
   ]
  },
  {
   "cell_type": "markdown",
   "id": "5dee83fd",
   "metadata": {},
   "source": [
    "### Visualizando datos"
   ]
  },
  {
   "cell_type": "code",
   "execution_count": null,
   "id": "42b36413",
   "metadata": {},
   "outputs": [],
   "source": [
    "sec_df =  dataFgrouped.select(['WHO Region', 'Confirmed', 'Deaths', 'Recovered', 'Active']).groupBy('WHO Region').mean().toPandas()"
   ]
  },
  {
   "cell_type": "code",
   "execution_count": null,
   "id": "c7cc80ca",
   "metadata": {},
   "outputs": [],
   "source": [
    "sec_df"
   ]
  },
  {
   "cell_type": "code",
   "execution_count": null,
   "id": "4752c70c",
   "metadata": {},
   "outputs": [],
   "source": [
    "sec_df.plot(kind = 'bar', x='WHO Region', y = sec_df.columns.tolist()[1:], figsize=(12, 6))"
   ]
  },
  {
   "cell_type": "code",
   "execution_count": null,
   "id": "07b34c88",
   "metadata": {},
   "outputs": [],
   "source": [
    "from pyspark.sql.functions import col, lit"
   ]
  },
  {
   "cell_type": "code",
   "execution_count": null,
   "id": "a67a0339",
   "metadata": {},
   "outputs": [],
   "source": [
    "dataFilter = dataFgrouped.filter( (col('WHO Region') == 'Europe') )"
   ]
  },
  {
   "cell_type": "code",
   "execution_count": null,
   "id": "b90acc84",
   "metadata": {},
   "outputs": [],
   "source": [
    "dataFilter.show()"
   ]
  },
  {
   "cell_type": "code",
   "execution_count": null,
   "id": "a78c5951",
   "metadata": {},
   "outputs": [],
   "source": [
    "sec_df1 =  dataFilter.select(['Country/Region', 'Deaths', 'Active', 'New cases']).groupBy('Country/Region').mean().toPandas()"
   ]
  },
  {
   "cell_type": "code",
   "execution_count": null,
   "id": "897de7da",
   "metadata": {},
   "outputs": [],
   "source": [
    "sec_df1"
   ]
  }
 ],
 "metadata": {
  "kernelspec": {
   "display_name": "Python 3 (ipykernel)",
   "language": "python",
   "name": "python3"
  },
  "language_info": {
   "codemirror_mode": {
    "name": "ipython",
    "version": 3
   },
   "file_extension": ".py",
   "mimetype": "text/x-python",
   "name": "python",
   "nbconvert_exporter": "python",
   "pygments_lexer": "ipython3",
   "version": "3.9.12"
  }
 },
 "nbformat": 4,
 "nbformat_minor": 5
}
