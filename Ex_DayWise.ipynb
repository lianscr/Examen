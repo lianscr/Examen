{
 "cells": [
  {
   "cell_type": "code",
   "execution_count": 1,
   "id": "0e541eac",
   "metadata": {},
   "outputs": [],
   "source": [
    "import findspark\n",
    "findspark.init()\n",
    "\n",
    "import pandas as pd\n",
    "import pyspark"
   ]
  },
  {
   "cell_type": "code",
   "execution_count": 2,
   "id": "2dd469a0",
   "metadata": {},
   "outputs": [],
   "source": [
    "from pyspark.sql import functions as f\n",
    "import pandas as pd"
   ]
  },
  {
   "cell_type": "code",
   "execution_count": 3,
   "id": "89c032a0",
   "metadata": {},
   "outputs": [
    {
     "name": "stdout",
     "output_type": "stream",
     "text": [
      "22/08/25 23:02:16 WARN Utils: Your hostname, MacBook-Air-de-Willians.local resolves to a loopback address: 127.0.0.1; using 192.168.18.9 instead (on interface en0)\n",
      "22/08/25 23:02:16 WARN Utils: Set SPARK_LOCAL_IP if you need to bind to another address\n"
     ]
    },
    {
     "name": "stderr",
     "output_type": "stream",
     "text": [
      "Setting default log level to \"WARN\".\n",
      "To adjust logging level use sc.setLogLevel(newLevel). For SparkR, use setLogLevel(newLevel).\n"
     ]
    },
    {
     "name": "stdout",
     "output_type": "stream",
     "text": [
      "22/08/25 23:02:18 WARN NativeCodeLoader: Unable to load native-hadoop library for your platform... using builtin-java classes where applicable\n",
      "22/08/25 23:02:23 WARN Utils: Service 'SparkUI' could not bind on port 4040. Attempting port 4041.\n",
      "22/08/25 23:02:23 WARN Utils: Service 'SparkUI' could not bind on port 4041. Attempting port 4042.\n",
      "22/08/25 23:02:23 WARN Utils: Service 'SparkUI' could not bind on port 4042. Attempting port 4043.\n"
     ]
    }
   ],
   "source": [
    "from pyspark.sql import SparkSession\n",
    "\n",
    "spark = SparkSession.builder\\\n",
    "        .master(\"local[*]\")\\\n",
    "        .appName('PySpark_DayWise')\\\n",
    "        .getOrCreate()"
   ]
  },
  {
   "cell_type": "code",
   "execution_count": 4,
   "id": "109fc541",
   "metadata": {},
   "outputs": [
    {
     "name": "stderr",
     "output_type": "stream",
     "text": [
      "                                                                                \r"
     ]
    },
    {
     "name": "stdout",
     "output_type": "stream",
     "text": [
      "root\n",
      " |-- Date: string (nullable = true)\n",
      " |-- Confirmed: string (nullable = true)\n",
      " |-- Deaths: string (nullable = true)\n",
      " |-- Recovered: string (nullable = true)\n",
      " |-- Active: string (nullable = true)\n",
      " |-- New cases: string (nullable = true)\n",
      " |-- New deaths: string (nullable = true)\n",
      " |-- New recovered: string (nullable = true)\n",
      " |-- Deaths / 100 Cases: string (nullable = true)\n",
      " |-- Recovered / 100 Cases: string (nullable = true)\n",
      " |-- Deaths / 100 Recovered: string (nullable = true)\n",
      " |-- No. of countries: string (nullable = true)\n",
      "\n"
     ]
    }
   ],
   "source": [
    "dataDayWise = spark.read.csv(\n",
    "    'archive/day_wise.csv',\n",
    "    sep = ',',\n",
    "    header = True,\n",
    "    )\n",
    "\n",
    "dataDayWise.printSchema()"
   ]
  },
  {
   "cell_type": "code",
   "execution_count": 6,
   "id": "b36f1d58",
   "metadata": {},
   "outputs": [
    {
     "name": "stdout",
     "output_type": "stream",
     "text": [
      "+----------+---------+------+---------+------+---------+----------+-------------+------------------+---------------------+----------------------+----------------+\n",
      "|      Date|Confirmed|Deaths|Recovered|Active|New cases|New deaths|New recovered|Deaths / 100 Cases|Recovered / 100 Cases|Deaths / 100 Recovered|No. of countries|\n",
      "+----------+---------+------+---------+------+---------+----------+-------------+------------------+---------------------+----------------------+----------------+\n",
      "|2020-01-22|      555|    17|       28|   510|        0|         0|            0|              3.06|                 5.05|                 60.71|               6|\n",
      "|2020-01-23|      654|    18|       30|   606|       99|         1|            2|              2.75|                 4.59|                  60.0|               8|\n",
      "|2020-01-24|      941|    26|       36|   879|      287|         8|            6|              2.76|                 3.83|                 72.22|               9|\n",
      "|2020-01-25|     1434|    42|       39|  1353|      493|        16|            3|              2.93|                 2.72|                107.69|              11|\n",
      "|2020-01-26|     2118|    56|       52|  2010|      684|        14|           13|              2.64|                 2.46|                107.69|              13|\n",
      "|2020-01-27|     2927|    82|       61|  2784|      809|        26|            9|               2.8|                 2.08|                134.43|              16|\n",
      "+----------+---------+------+---------+------+---------+----------+-------------+------------------+---------------------+----------------------+----------------+\n",
      "only showing top 6 rows\n",
      "\n"
     ]
    }
   ],
   "source": [
    "dataDayWise.show(6)"
   ]
  },
  {
   "cell_type": "code",
   "execution_count": 7,
   "id": "5a84be94",
   "metadata": {},
   "outputs": [],
   "source": [
    "from pyspark.sql.types import *\n",
    "\n",
    "data_schema = [\n",
    "               StructField('Date', DateType(), True),\n",
    "               StructField('Confirmed', IntegerType(), True),\n",
    "               StructField('Deaths', IntegerType(), True),\n",
    "               StructField('Recovered', IntegerType(), True),\n",
    "               StructField('Active', IntegerType(), True),\n",
    "               StructField('New cases', IntegerType(), True),\n",
    "               StructField('New deaths', IntegerType(), True),\n",
    "               StructField('New recovered', IntegerType(), True),\n",
    "               StructField('Deaths / 100 Cases', DoubleType(), True),\n",
    "               StructField('Recovered / 100 Cases', DoubleType(), True),\n",
    "               StructField('Deaths / 100 Recovered', DoubleType(), True),\n",
    "               StructField('No. of countries', IntegerType(), True),\n",
    "            ]\n",
    "\n",
    "final_struc = StructType(fields=data_schema)"
   ]
  },
  {
   "cell_type": "code",
   "execution_count": 12,
   "id": "3819885c",
   "metadata": {},
   "outputs": [],
   "source": [
    "dataDayWise = spark.read.csv(\n",
    "    'archive/day_wise.csv',\n",
    "    sep = ',',\n",
    "    header = True,\n",
    "    schema = final_struc\n",
    "    )"
   ]
  },
  {
   "cell_type": "code",
   "execution_count": 13,
   "id": "34a5768f",
   "metadata": {},
   "outputs": [
    {
     "name": "stdout",
     "output_type": "stream",
     "text": [
      "root\n",
      " |-- Date: date (nullable = true)\n",
      " |-- Confirmed: integer (nullable = true)\n",
      " |-- Deaths: integer (nullable = true)\n",
      " |-- Recovered: integer (nullable = true)\n",
      " |-- Active: integer (nullable = true)\n",
      " |-- New cases: integer (nullable = true)\n",
      " |-- New deaths: integer (nullable = true)\n",
      " |-- New recovered: integer (nullable = true)\n",
      " |-- Deaths / 100 Cases: double (nullable = true)\n",
      " |-- Recovered / 100 Cases: double (nullable = true)\n",
      " |-- Deaths / 100 Recovered: double (nullable = true)\n",
      " |-- No. of countries: integer (nullable = true)\n",
      "\n"
     ]
    }
   ],
   "source": [
    "dataDayWise.printSchema()"
   ]
  },
  {
   "cell_type": "code",
   "execution_count": 14,
   "id": "23618908",
   "metadata": {},
   "outputs": [
    {
     "name": "stdout",
     "output_type": "stream",
     "text": [
      "+----------+---------+------+---------+------+---------+----------+-------------+------------------+---------------------+----------------------+----------------+\n",
      "|      Date|Confirmed|Deaths|Recovered|Active|New cases|New deaths|New recovered|Deaths / 100 Cases|Recovered / 100 Cases|Deaths / 100 Recovered|No. of countries|\n",
      "+----------+---------+------+---------+------+---------+----------+-------------+------------------+---------------------+----------------------+----------------+\n",
      "|2020-01-22|      555|    17|       28|   510|        0|         0|            0|              3.06|                 5.05|                 60.71|               6|\n",
      "|2020-01-23|      654|    18|       30|   606|       99|         1|            2|              2.75|                 4.59|                  60.0|               8|\n",
      "|2020-01-24|      941|    26|       36|   879|      287|         8|            6|              2.76|                 3.83|                 72.22|               9|\n",
      "|2020-01-25|     1434|    42|       39|  1353|      493|        16|            3|              2.93|                 2.72|                107.69|              11|\n",
      "|2020-01-26|     2118|    56|       52|  2010|      684|        14|           13|              2.64|                 2.46|                107.69|              13|\n",
      "+----------+---------+------+---------+------+---------+----------+-------------+------------------+---------------------+----------------------+----------------+\n",
      "only showing top 5 rows\n",
      "\n"
     ]
    }
   ],
   "source": [
    "dataDayWise.show(5)"
   ]
  },
  {
   "cell_type": "markdown",
   "id": "e766defd",
   "metadata": {},
   "source": [
    "#### Generando file parquet"
   ]
  },
  {
   "cell_type": "code",
   "execution_count": 16,
   "id": "3ba027d2",
   "metadata": {},
   "outputs": [],
   "source": [
    "dataDayWise.write.save('data/parquets/dataDayWise', format='parquet')"
   ]
  },
  {
   "cell_type": "code",
   "execution_count": null,
   "id": "4b4aa0cb",
   "metadata": {},
   "outputs": [],
   "source": []
  }
 ],
 "metadata": {
  "kernelspec": {
   "display_name": "Python 3 (ipykernel)",
   "language": "python",
   "name": "python3"
  },
  "language_info": {
   "codemirror_mode": {
    "name": "ipython",
    "version": 3
   },
   "file_extension": ".py",
   "mimetype": "text/x-python",
   "name": "python",
   "nbconvert_exporter": "python",
   "pygments_lexer": "ipython3",
   "version": "3.9.12"
  }
 },
 "nbformat": 4,
 "nbformat_minor": 5
}
