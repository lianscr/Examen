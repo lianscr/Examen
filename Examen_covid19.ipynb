{
 "cells": [
  {
   "cell_type": "code",
   "execution_count": 1,
   "id": "fa843dc4",
   "metadata": {},
   "outputs": [],
   "source": [
    "import findspark\n",
    "findspark.init()\n",
    "\n",
    "import pandas as pd\n",
    "import pyspark"
   ]
  },
  {
   "cell_type": "code",
   "execution_count": 2,
   "id": "0389a256",
   "metadata": {},
   "outputs": [],
   "source": [
    "from pyspark.sql import functions as f\n",
    "import pandas as pd"
   ]
  },
  {
   "cell_type": "code",
   "execution_count": 3,
   "id": "99810900",
   "metadata": {},
   "outputs": [
    {
     "name": "stdout",
     "output_type": "stream",
     "text": [
      "22/08/24 14:48:16 WARN Utils: Your hostname, MacBook-Air-de-Willians.local resolves to a loopback address: 127.0.0.1; using 192.168.18.9 instead (on interface en0)\n",
      "22/08/24 14:48:16 WARN Utils: Set SPARK_LOCAL_IP if you need to bind to another address\n"
     ]
    },
    {
     "name": "stderr",
     "output_type": "stream",
     "text": [
      "Setting default log level to \"WARN\".\n",
      "To adjust logging level use sc.setLogLevel(newLevel). For SparkR, use setLogLevel(newLevel).\n"
     ]
    },
    {
     "name": "stdout",
     "output_type": "stream",
     "text": [
      "22/08/24 14:48:19 WARN NativeCodeLoader: Unable to load native-hadoop library for your platform... using builtin-java classes where applicable\n",
      "22/08/24 14:48:23 WARN Utils: Service 'SparkUI' could not bind on port 4040. Attempting port 4041.\n",
      "22/08/24 14:48:23 WARN Utils: Service 'SparkUI' could not bind on port 4041. Attempting port 4042.\n"
     ]
    }
   ],
   "source": [
    "from pyspark.sql import SparkSession\n",
    "\n",
    "spark = SparkSession.builder\\\n",
    "        .master(\"local[*]\")\\\n",
    "        .appName('PySpark_Examen')\\\n",
    "        .getOrCreate()"
   ]
  },
  {
   "cell_type": "markdown",
   "id": "cb77bafe",
   "metadata": {},
   "source": [
    "## Visualizando la data"
   ]
  },
  {
   "cell_type": "code",
   "execution_count": 4,
   "id": "aea00643",
   "metadata": {},
   "outputs": [
    {
     "name": "stderr",
     "output_type": "stream",
     "text": [
      "                                                                                \r"
     ]
    },
    {
     "name": "stdout",
     "output_type": "stream",
     "text": [
      "root\n",
      " |-- Province/State: string (nullable = true)\n",
      " |-- Country/Region: string (nullable = true)\n",
      " |-- Lat: string (nullable = true)\n",
      " |-- Long: string (nullable = true)\n",
      " |-- Date: string (nullable = true)\n",
      " |-- Confirmed: string (nullable = true)\n",
      " |-- Deaths: string (nullable = true)\n",
      " |-- Recovered: string (nullable = true)\n",
      " |-- Active: string (nullable = true)\n",
      " |-- WHO Region: string (nullable = true)\n",
      "\n"
     ]
    }
   ],
   "source": [
    "dataCovid = spark.read.csv(\n",
    "    'data/archive/covid_19_clean_complete.csv',\n",
    "    sep = ',',\n",
    "    header = True,\n",
    "    )\n",
    "\n",
    "dataCovid.printSchema()"
   ]
  },
  {
   "cell_type": "code",
   "execution_count": 6,
   "id": "93197387",
   "metadata": {},
   "outputs": [
    {
     "name": "stdout",
     "output_type": "stream",
     "text": [
      "+--------------+-------------------+--------+---------+----------+---------+------+---------+------+--------------------+\n",
      "|Province/State|     Country/Region|     Lat|     Long|      Date|Confirmed|Deaths|Recovered|Active|          WHO Region|\n",
      "+--------------+-------------------+--------+---------+----------+---------+------+---------+------+--------------------+\n",
      "|          null|        Afghanistan|33.93911|67.709953|2020-01-22|        0|     0|        0|     0|Eastern Mediterra...|\n",
      "|          null|            Albania| 41.1533|  20.1683|2020-01-22|        0|     0|        0|     0|              Europe|\n",
      "|          null|            Algeria| 28.0339|   1.6596|2020-01-22|        0|     0|        0|     0|              Africa|\n",
      "|          null|            Andorra| 42.5063|   1.5218|2020-01-22|        0|     0|        0|     0|              Europe|\n",
      "|          null|             Angola|-11.2027|  17.8739|2020-01-22|        0|     0|        0|     0|              Africa|\n",
      "|          null|Antigua and Barbuda| 17.0608| -61.7964|2020-01-22|        0|     0|        0|     0|            Americas|\n",
      "|          null|          Argentina|-38.4161| -63.6167|2020-01-22|        0|     0|        0|     0|            Americas|\n",
      "+--------------+-------------------+--------+---------+----------+---------+------+---------+------+--------------------+\n",
      "only showing top 7 rows\n",
      "\n"
     ]
    }
   ],
   "source": [
    "dataCovid.show(7)"
   ]
  },
  {
   "cell_type": "markdown",
   "id": "5255263e",
   "metadata": {},
   "source": [
    "#### Actualizando estructura de datos"
   ]
  },
  {
   "cell_type": "code",
   "execution_count": 8,
   "id": "aba61fc8",
   "metadata": {},
   "outputs": [],
   "source": [
    "from pyspark.sql.types import *\n",
    "\n",
    "data_schema = [\n",
    "               StructField('Province/State', StringType(), True),\n",
    "               StructField('Country/Region', StringType(), True),\n",
    "               StructField('Lat', DoubleType(), True),\n",
    "               StructField('Long', DoubleType(), True),\n",
    "               StructField('Date', DateType(), True),\n",
    "               StructField('Confirmed', IntegerType(), True),\n",
    "               StructField('Deaths', IntegerType(), True),\n",
    "               StructField('Recovered', IntegerType(), True),\n",
    "               StructField('Active', IntegerType(), True),\n",
    "               StructField('WHO Region', StringType(), True),\n",
    "            ]\n",
    "\n",
    "final_struc = StructType(fields=data_schema)"
   ]
  },
  {
   "cell_type": "code",
   "execution_count": 11,
   "id": "499941ae",
   "metadata": {},
   "outputs": [],
   "source": [
    "dataCovid = spark.read.csv(\n",
    "    'data/archive/covid_19_clean_complete.csv',\n",
    "    sep = ',',\n",
    "    header = True,\n",
    "    schema = final_struc\n",
    "    )"
   ]
  },
  {
   "cell_type": "code",
   "execution_count": 12,
   "id": "dc8c157b",
   "metadata": {},
   "outputs": [
    {
     "name": "stdout",
     "output_type": "stream",
     "text": [
      "root\n",
      " |-- Province/State: string (nullable = true)\n",
      " |-- Country/Region: string (nullable = true)\n",
      " |-- Lat: double (nullable = true)\n",
      " |-- Long: double (nullable = true)\n",
      " |-- Date: date (nullable = true)\n",
      " |-- Confirmed: integer (nullable = true)\n",
      " |-- Deaths: integer (nullable = true)\n",
      " |-- Recovered: integer (nullable = true)\n",
      " |-- Active: integer (nullable = true)\n",
      " |-- WHO Region: string (nullable = true)\n",
      "\n"
     ]
    }
   ],
   "source": [
    "dataCovid.printSchema()"
   ]
  },
  {
   "cell_type": "code",
   "execution_count": 13,
   "id": "7c51e1e0",
   "metadata": {},
   "outputs": [
    {
     "name": "stdout",
     "output_type": "stream",
     "text": [
      "+--------------+--------------+--------+---------+----------+---------+------+---------+------+--------------------+\n",
      "|Province/State|Country/Region|     Lat|     Long|      Date|Confirmed|Deaths|Recovered|Active|          WHO Region|\n",
      "+--------------+--------------+--------+---------+----------+---------+------+---------+------+--------------------+\n",
      "|          null|   Afghanistan|33.93911|67.709953|2020-01-22|        0|     0|        0|     0|Eastern Mediterra...|\n",
      "|          null|       Albania| 41.1533|  20.1683|2020-01-22|        0|     0|        0|     0|              Europe|\n",
      "|          null|       Algeria| 28.0339|   1.6596|2020-01-22|        0|     0|        0|     0|              Africa|\n",
      "|          null|       Andorra| 42.5063|   1.5218|2020-01-22|        0|     0|        0|     0|              Europe|\n",
      "|          null|        Angola|-11.2027|  17.8739|2020-01-22|        0|     0|        0|     0|              Africa|\n",
      "+--------------+--------------+--------+---------+----------+---------+------+---------+------+--------------------+\n",
      "only showing top 5 rows\n",
      "\n"
     ]
    }
   ],
   "source": [
    "dataCovid.show(5)"
   ]
  },
  {
   "cell_type": "code",
   "execution_count": null,
   "id": "30c34994",
   "metadata": {},
   "outputs": [],
   "source": []
  }
 ],
 "metadata": {
  "kernelspec": {
   "display_name": "Python 3 (ipykernel)",
   "language": "python",
   "name": "python3"
  },
  "language_info": {
   "codemirror_mode": {
    "name": "ipython",
    "version": 3
   },
   "file_extension": ".py",
   "mimetype": "text/x-python",
   "name": "python",
   "nbconvert_exporter": "python",
   "pygments_lexer": "ipython3",
   "version": "3.9.12"
  }
 },
 "nbformat": 4,
 "nbformat_minor": 5
}
