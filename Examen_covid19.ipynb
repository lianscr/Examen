{
 "cells": [
  {
   "cell_type": "code",
   "execution_count": 1,
   "id": "fa843dc4",
   "metadata": {},
   "outputs": [],
   "source": [
    "import findspark\n",
    "findspark.init()\n",
    "\n",
    "import pandas as pd\n",
    "import pyspark"
   ]
  },
  {
   "cell_type": "code",
   "execution_count": 2,
   "id": "0389a256",
   "metadata": {},
   "outputs": [],
   "source": [
    "from pyspark.sql import functions as f\n",
    "import pandas as pd"
   ]
  },
  {
   "cell_type": "code",
   "execution_count": 3,
   "id": "99810900",
   "metadata": {},
   "outputs": [
    {
     "name": "stdout",
     "output_type": "stream",
     "text": [
      "22/08/25 18:02:03 WARN Utils: Your hostname, MacBook-Air-de-Willians.local resolves to a loopback address: 127.0.0.1; using 192.168.18.9 instead (on interface en0)\n",
      "22/08/25 18:02:03 WARN Utils: Set SPARK_LOCAL_IP if you need to bind to another address\n"
     ]
    },
    {
     "name": "stderr",
     "output_type": "stream",
     "text": [
      "Setting default log level to \"WARN\".\n",
      "To adjust logging level use sc.setLogLevel(newLevel). For SparkR, use setLogLevel(newLevel).\n"
     ]
    },
    {
     "name": "stdout",
     "output_type": "stream",
     "text": [
      "22/08/25 18:02:05 WARN NativeCodeLoader: Unable to load native-hadoop library for your platform... using builtin-java classes where applicable\n",
      "22/08/25 18:02:09 WARN Utils: Service 'SparkUI' could not bind on port 4040. Attempting port 4041.\n"
     ]
    }
   ],
   "source": [
    "from pyspark.sql import SparkSession\n",
    "\n",
    "spark = SparkSession.builder\\\n",
    "        .master(\"local[*]\")\\\n",
    "        .appName('PySpark_Covid')\\\n",
    "        .getOrCreate()"
   ]
  },
  {
   "cell_type": "markdown",
   "id": "cb77bafe",
   "metadata": {},
   "source": [
    "## Visualizando la data"
   ]
  },
  {
   "cell_type": "code",
   "execution_count": 5,
   "id": "aea00643",
   "metadata": {},
   "outputs": [
    {
     "name": "stderr",
     "output_type": "stream",
     "text": [
      "                                                                                \r"
     ]
    },
    {
     "name": "stdout",
     "output_type": "stream",
     "text": [
      "root\n",
      " |-- Province/State: string (nullable = true)\n",
      " |-- Country/Region: string (nullable = true)\n",
      " |-- Lat: string (nullable = true)\n",
      " |-- Long: string (nullable = true)\n",
      " |-- Date: string (nullable = true)\n",
      " |-- Confirmed: string (nullable = true)\n",
      " |-- Deaths: string (nullable = true)\n",
      " |-- Recovered: string (nullable = true)\n",
      " |-- Active: string (nullable = true)\n",
      " |-- WHO Region: string (nullable = true)\n",
      "\n"
     ]
    }
   ],
   "source": [
    "dataCovid = spark.read.csv(\n",
    "    'archive/covid_19_clean_complete.csv',\n",
    "    sep = ',',\n",
    "    header = True,\n",
    "    )\n",
    "\n",
    "dataCovid.printSchema()"
   ]
  },
  {
   "cell_type": "code",
   "execution_count": 6,
   "id": "93197387",
   "metadata": {},
   "outputs": [
    {
     "name": "stdout",
     "output_type": "stream",
     "text": [
      "+--------------+-------------------+--------+---------+----------+---------+------+---------+------+--------------------+\n",
      "|Province/State|     Country/Region|     Lat|     Long|      Date|Confirmed|Deaths|Recovered|Active|          WHO Region|\n",
      "+--------------+-------------------+--------+---------+----------+---------+------+---------+------+--------------------+\n",
      "|          null|        Afghanistan|33.93911|67.709953|2020-01-22|        0|     0|        0|     0|Eastern Mediterra...|\n",
      "|          null|            Albania| 41.1533|  20.1683|2020-01-22|        0|     0|        0|     0|              Europe|\n",
      "|          null|            Algeria| 28.0339|   1.6596|2020-01-22|        0|     0|        0|     0|              Africa|\n",
      "|          null|            Andorra| 42.5063|   1.5218|2020-01-22|        0|     0|        0|     0|              Europe|\n",
      "|          null|             Angola|-11.2027|  17.8739|2020-01-22|        0|     0|        0|     0|              Africa|\n",
      "|          null|Antigua and Barbuda| 17.0608| -61.7964|2020-01-22|        0|     0|        0|     0|            Americas|\n",
      "|          null|          Argentina|-38.4161| -63.6167|2020-01-22|        0|     0|        0|     0|            Americas|\n",
      "+--------------+-------------------+--------+---------+----------+---------+------+---------+------+--------------------+\n",
      "only showing top 7 rows\n",
      "\n"
     ]
    }
   ],
   "source": [
    "dataCovid.show(7)"
   ]
  },
  {
   "cell_type": "markdown",
   "id": "5255263e",
   "metadata": {},
   "source": [
    "#### Actualizando estructura de datos"
   ]
  },
  {
   "cell_type": "code",
   "execution_count": 7,
   "id": "aba61fc8",
   "metadata": {},
   "outputs": [],
   "source": [
    "from pyspark.sql.types import *\n",
    "\n",
    "data_schema = [\n",
    "               StructField('Province/State', StringType(), True),\n",
    "               StructField('Country/Region', StringType(), True),\n",
    "               StructField('Lat', DoubleType(), True),\n",
    "               StructField('Long', DoubleType(), True),\n",
    "               StructField('Date', DateType(), True),\n",
    "               StructField('Confirmed', IntegerType(), True),\n",
    "               StructField('Deaths', IntegerType(), True),\n",
    "               StructField('Recovered', IntegerType(), True),\n",
    "               StructField('Active', IntegerType(), True),\n",
    "               StructField('WHO Region', StringType(), True),\n",
    "            ]\n",
    "\n",
    "final_struc = StructType(fields=data_schema)"
   ]
  },
  {
   "cell_type": "code",
   "execution_count": 8,
   "id": "499941ae",
   "metadata": {},
   "outputs": [],
   "source": [
    "dataCovid = spark.read.csv(\n",
    "    'archive/covid_19_clean_complete.csv',\n",
    "    sep = ',',\n",
    "    header = True,\n",
    "    schema = final_struc\n",
    "    )"
   ]
  },
  {
   "cell_type": "code",
   "execution_count": 9,
   "id": "dc8c157b",
   "metadata": {},
   "outputs": [
    {
     "name": "stdout",
     "output_type": "stream",
     "text": [
      "root\n",
      " |-- Province/State: string (nullable = true)\n",
      " |-- Country/Region: string (nullable = true)\n",
      " |-- Lat: double (nullable = true)\n",
      " |-- Long: double (nullable = true)\n",
      " |-- Date: date (nullable = true)\n",
      " |-- Confirmed: integer (nullable = true)\n",
      " |-- Deaths: integer (nullable = true)\n",
      " |-- Recovered: integer (nullable = true)\n",
      " |-- Active: integer (nullable = true)\n",
      " |-- WHO Region: string (nullable = true)\n",
      "\n"
     ]
    }
   ],
   "source": [
    "dataCovid.printSchema()"
   ]
  },
  {
   "cell_type": "code",
   "execution_count": 10,
   "id": "7c51e1e0",
   "metadata": {},
   "outputs": [
    {
     "name": "stdout",
     "output_type": "stream",
     "text": [
      "+--------------+--------------+--------+---------+----------+---------+------+---------+------+--------------------+\n",
      "|Province/State|Country/Region|     Lat|     Long|      Date|Confirmed|Deaths|Recovered|Active|          WHO Region|\n",
      "+--------------+--------------+--------+---------+----------+---------+------+---------+------+--------------------+\n",
      "|          null|   Afghanistan|33.93911|67.709953|2020-01-22|        0|     0|        0|     0|Eastern Mediterra...|\n",
      "|          null|       Albania| 41.1533|  20.1683|2020-01-22|        0|     0|        0|     0|              Europe|\n",
      "|          null|       Algeria| 28.0339|   1.6596|2020-01-22|        0|     0|        0|     0|              Africa|\n",
      "|          null|       Andorra| 42.5063|   1.5218|2020-01-22|        0|     0|        0|     0|              Europe|\n",
      "|          null|        Angola|-11.2027|  17.8739|2020-01-22|        0|     0|        0|     0|              Africa|\n",
      "+--------------+--------------+--------+---------+----------+---------+------+---------+------+--------------------+\n",
      "only showing top 5 rows\n",
      "\n",
      "22/08/25 19:33:58 WARN HeartbeatReceiver: Removing executor driver with no recent heartbeats: 2809936 ms exceeds timeout 120000 ms\n",
      "22/08/25 19:33:58 WARN SparkContext: Killing executors is not supported by current scheduler.\n"
     ]
    }
   ],
   "source": [
    "dataCovid.show(5)"
   ]
  },
  {
   "cell_type": "markdown",
   "id": "847ab7f3",
   "metadata": {},
   "source": [
    "#### Generando file parquet"
   ]
  },
  {
   "cell_type": "code",
   "execution_count": 12,
   "id": "5efd5236",
   "metadata": {},
   "outputs": [
    {
     "name": "stderr",
     "output_type": "stream",
     "text": [
      "                                                                                \r"
     ]
    }
   ],
   "source": [
    "dataCovid.write.parquet('data/parquets/covid19')"
   ]
  },
  {
   "cell_type": "code",
   "execution_count": 13,
   "id": "eddba57b",
   "metadata": {},
   "outputs": [
    {
     "name": "stdout",
     "output_type": "stream",
     "text": [
      "+--------------+-------------------+--------+---------+----------+---------+------+---------+------+--------------------+\n",
      "|Province/State|     Country/Region|     Lat|     Long|      Date|Confirmed|Deaths|Recovered|Active|          WHO Region|\n",
      "+--------------+-------------------+--------+---------+----------+---------+------+---------+------+--------------------+\n",
      "|          null|        Afghanistan|33.93911|67.709953|2020-01-22|        0|     0|        0|     0|Eastern Mediterra...|\n",
      "|          null|            Albania| 41.1533|  20.1683|2020-01-22|        0|     0|        0|     0|              Europe|\n",
      "|          null|            Algeria| 28.0339|   1.6596|2020-01-22|        0|     0|        0|     0|              Africa|\n",
      "|          null|            Andorra| 42.5063|   1.5218|2020-01-22|        0|     0|        0|     0|              Europe|\n",
      "|          null|             Angola|-11.2027|  17.8739|2020-01-22|        0|     0|        0|     0|              Africa|\n",
      "|          null|Antigua and Barbuda| 17.0608| -61.7964|2020-01-22|        0|     0|        0|     0|            Americas|\n",
      "+--------------+-------------------+--------+---------+----------+---------+------+---------+------+--------------------+\n",
      "only showing top 6 rows\n",
      "\n"
     ]
    }
   ],
   "source": [
    "dfParquet = spark.read.parquet('data/parquets/covid19')\n",
    "dfParquet.show(6)"
   ]
  },
  {
   "cell_type": "code",
   "execution_count": 14,
   "id": "99b9c750",
   "metadata": {},
   "outputs": [],
   "source": [
    "import numpy as np"
   ]
  },
  {
   "cell_type": "code",
   "execution_count": 15,
   "id": "5ec7561e",
   "metadata": {},
   "outputs": [
    {
     "name": "stderr",
     "output_type": "stream",
     "text": [
      "                                                                                \r"
     ]
    },
    {
     "data": {
      "text/html": [
       "<div>\n",
       "<style scoped>\n",
       "    .dataframe tbody tr th:only-of-type {\n",
       "        vertical-align: middle;\n",
       "    }\n",
       "\n",
       "    .dataframe tbody tr th {\n",
       "        vertical-align: top;\n",
       "    }\n",
       "\n",
       "    .dataframe thead th {\n",
       "        text-align: right;\n",
       "    }\n",
       "</style>\n",
       "<table border=\"1\" class=\"dataframe\">\n",
       "  <thead>\n",
       "    <tr style=\"text-align: right;\">\n",
       "      <th></th>\n",
       "      <th>summary</th>\n",
       "      <th>Province/State</th>\n",
       "      <th>Country/Region</th>\n",
       "      <th>Lat</th>\n",
       "      <th>Long</th>\n",
       "      <th>Confirmed</th>\n",
       "      <th>Deaths</th>\n",
       "      <th>Recovered</th>\n",
       "      <th>Active</th>\n",
       "      <th>WHO Region</th>\n",
       "    </tr>\n",
       "  </thead>\n",
       "  <tbody>\n",
       "    <tr>\n",
       "      <th>0</th>\n",
       "      <td>count</td>\n",
       "      <td>14664</td>\n",
       "      <td>49068</td>\n",
       "      <td>49068</td>\n",
       "      <td>49068</td>\n",
       "      <td>49068</td>\n",
       "      <td>49068</td>\n",
       "      <td>49068</td>\n",
       "      <td>49068</td>\n",
       "      <td>49068</td>\n",
       "    </tr>\n",
       "    <tr>\n",
       "      <th>1</th>\n",
       "      <td>mean</td>\n",
       "      <td>None</td>\n",
       "      <td>None</td>\n",
       "      <td>21.433730459769688</td>\n",
       "      <td>23.528236452106245</td>\n",
       "      <td>16884.90425531915</td>\n",
       "      <td>884.1791595337083</td>\n",
       "      <td>7915.713479253282</td>\n",
       "      <td>8085.01161653216</td>\n",
       "      <td>None</td>\n",
       "    </tr>\n",
       "    <tr>\n",
       "      <th>2</th>\n",
       "      <td>stddev</td>\n",
       "      <td>None</td>\n",
       "      <td>None</td>\n",
       "      <td>24.95031982606509</td>\n",
       "      <td>70.4427397445028</td>\n",
       "      <td>127300.20527228026</td>\n",
       "      <td>6313.584410596534</td>\n",
       "      <td>54800.91873054013</td>\n",
       "      <td>76258.90302550694</td>\n",
       "      <td>None</td>\n",
       "    </tr>\n",
       "    <tr>\n",
       "      <th>3</th>\n",
       "      <td>min</td>\n",
       "      <td>Alberta</td>\n",
       "      <td>Afghanistan</td>\n",
       "      <td>-51.7963</td>\n",
       "      <td>-135.0</td>\n",
       "      <td>0</td>\n",
       "      <td>0</td>\n",
       "      <td>0</td>\n",
       "      <td>-14</td>\n",
       "      <td>Africa</td>\n",
       "    </tr>\n",
       "    <tr>\n",
       "      <th>4</th>\n",
       "      <td>max</td>\n",
       "      <td>Zhejiang</td>\n",
       "      <td>Zimbabwe</td>\n",
       "      <td>71.7069</td>\n",
       "      <td>178.065</td>\n",
       "      <td>4290259</td>\n",
       "      <td>148011</td>\n",
       "      <td>1846641</td>\n",
       "      <td>2816444</td>\n",
       "      <td>Western Pacific</td>\n",
       "    </tr>\n",
       "  </tbody>\n",
       "</table>\n",
       "</div>"
      ],
      "text/plain": [
       "  summary Province/State Country/Region                 Lat  \\\n",
       "0   count          14664          49068               49068   \n",
       "1    mean           None           None  21.433730459769688   \n",
       "2  stddev           None           None   24.95031982606509   \n",
       "3     min        Alberta    Afghanistan            -51.7963   \n",
       "4     max       Zhejiang       Zimbabwe             71.7069   \n",
       "\n",
       "                 Long           Confirmed             Deaths  \\\n",
       "0               49068               49068              49068   \n",
       "1  23.528236452106245   16884.90425531915  884.1791595337083   \n",
       "2    70.4427397445028  127300.20527228026  6313.584410596534   \n",
       "3              -135.0                   0                  0   \n",
       "4             178.065             4290259             148011   \n",
       "\n",
       "           Recovered             Active       WHO Region  \n",
       "0              49068              49068            49068  \n",
       "1  7915.713479253282   8085.01161653216             None  \n",
       "2  54800.91873054013  76258.90302550694             None  \n",
       "3                  0                -14           Africa  \n",
       "4            1846641            2816444  Western Pacific  "
      ]
     },
     "execution_count": 15,
     "metadata": {},
     "output_type": "execute_result"
    }
   ],
   "source": [
    "dataCovid.describe().toPandas()"
   ]
  },
  {
   "cell_type": "markdown",
   "id": "c2762d50",
   "metadata": {},
   "source": [
    "### Agrupando por Region WHO el numero de casos Confirmed, Deaths y Recovered"
   ]
  },
  {
   "cell_type": "code",
   "execution_count": 16,
   "id": "54d521b6",
   "metadata": {},
   "outputs": [
    {
     "name": "stdout",
     "output_type": "stream",
     "text": [
      "+--------------------+------------------+------------------+------------------+------------------+\n",
      "|          WHO Region|    avg(Confirmed)|       avg(Deaths)|    avg(Recovered)|       avg(Active)|\n",
      "+--------------------+------------------+------------------+------------------+------------------+\n",
      "|              Europe| 16547.85857712766|1281.3191489361702|  8191.62732712766|  7074.91210106383|\n",
      "|     Western Pacific| 2550.716731141199| 90.17698259187621|1824.1731141199227| 636.3666344294004|\n",
      "|              Africa|2414.8744459219856| 48.75642730496454|1240.4399379432625|1125.6780806737588|\n",
      "|Eastern Mediterra...|17911.724371373308| 465.1907640232108|11617.674806576402| 5828.858800773694|\n",
      "|            Americas|46514.939176688255| 2238.586031452359|18162.516651248843|26113.836493987048|\n",
      "|     South-East Asia| 29318.27925531915| 775.6031914893617|15973.578191489361|12569.097872340426|\n",
      "+--------------------+------------------+------------------+------------------+------------------+\n",
      "\n"
     ]
    }
   ],
   "source": [
    "dataCovid.select(['WHO Region', 'Confirmed', 'Deaths', 'Recovered', 'Active']).groupBy('WHO Region').mean().show()"
   ]
  },
  {
   "cell_type": "markdown",
   "id": "ee378ec9",
   "metadata": {},
   "source": [
    "### Visualización de datos"
   ]
  },
  {
   "cell_type": "code",
   "execution_count": 19,
   "id": "aec2c39d",
   "metadata": {},
   "outputs": [],
   "source": [
    "sec_df =  dataCovid.select(['WHO Region', 'Confirmed', 'Deaths', 'Recovered', 'Active']).groupBy('WHO Region').mean().toPandas()"
   ]
  },
  {
   "cell_type": "code",
   "execution_count": 20,
   "id": "38ebe4e7",
   "metadata": {},
   "outputs": [
    {
     "data": {
      "text/html": [
       "<div>\n",
       "<style scoped>\n",
       "    .dataframe tbody tr th:only-of-type {\n",
       "        vertical-align: middle;\n",
       "    }\n",
       "\n",
       "    .dataframe tbody tr th {\n",
       "        vertical-align: top;\n",
       "    }\n",
       "\n",
       "    .dataframe thead th {\n",
       "        text-align: right;\n",
       "    }\n",
       "</style>\n",
       "<table border=\"1\" class=\"dataframe\">\n",
       "  <thead>\n",
       "    <tr style=\"text-align: right;\">\n",
       "      <th></th>\n",
       "      <th>WHO Region</th>\n",
       "      <th>avg(Confirmed)</th>\n",
       "      <th>avg(Deaths)</th>\n",
       "      <th>avg(Recovered)</th>\n",
       "      <th>avg(Active)</th>\n",
       "    </tr>\n",
       "  </thead>\n",
       "  <tbody>\n",
       "    <tr>\n",
       "      <th>0</th>\n",
       "      <td>Europe</td>\n",
       "      <td>16547.858577</td>\n",
       "      <td>1281.319149</td>\n",
       "      <td>8191.627327</td>\n",
       "      <td>7074.912101</td>\n",
       "    </tr>\n",
       "    <tr>\n",
       "      <th>1</th>\n",
       "      <td>Western Pacific</td>\n",
       "      <td>2550.716731</td>\n",
       "      <td>90.176983</td>\n",
       "      <td>1824.173114</td>\n",
       "      <td>636.366634</td>\n",
       "    </tr>\n",
       "    <tr>\n",
       "      <th>2</th>\n",
       "      <td>Africa</td>\n",
       "      <td>2414.874446</td>\n",
       "      <td>48.756427</td>\n",
       "      <td>1240.439938</td>\n",
       "      <td>1125.678081</td>\n",
       "    </tr>\n",
       "    <tr>\n",
       "      <th>3</th>\n",
       "      <td>Eastern Mediterranean</td>\n",
       "      <td>17911.724371</td>\n",
       "      <td>465.190764</td>\n",
       "      <td>11617.674807</td>\n",
       "      <td>5828.858801</td>\n",
       "    </tr>\n",
       "    <tr>\n",
       "      <th>4</th>\n",
       "      <td>Americas</td>\n",
       "      <td>46514.939177</td>\n",
       "      <td>2238.586031</td>\n",
       "      <td>18162.516651</td>\n",
       "      <td>26113.836494</td>\n",
       "    </tr>\n",
       "    <tr>\n",
       "      <th>5</th>\n",
       "      <td>South-East Asia</td>\n",
       "      <td>29318.279255</td>\n",
       "      <td>775.603191</td>\n",
       "      <td>15973.578191</td>\n",
       "      <td>12569.097872</td>\n",
       "    </tr>\n",
       "  </tbody>\n",
       "</table>\n",
       "</div>"
      ],
      "text/plain": [
       "              WHO Region  avg(Confirmed)  avg(Deaths)  avg(Recovered)  \\\n",
       "0                 Europe    16547.858577  1281.319149     8191.627327   \n",
       "1        Western Pacific     2550.716731    90.176983     1824.173114   \n",
       "2                 Africa     2414.874446    48.756427     1240.439938   \n",
       "3  Eastern Mediterranean    17911.724371   465.190764    11617.674807   \n",
       "4               Americas    46514.939177  2238.586031    18162.516651   \n",
       "5        South-East Asia    29318.279255   775.603191    15973.578191   \n",
       "\n",
       "    avg(Active)  \n",
       "0   7074.912101  \n",
       "1    636.366634  \n",
       "2   1125.678081  \n",
       "3   5828.858801  \n",
       "4  26113.836494  \n",
       "5  12569.097872  "
      ]
     },
     "execution_count": 20,
     "metadata": {},
     "output_type": "execute_result"
    }
   ],
   "source": [
    "sec_df"
   ]
  },
  {
   "cell_type": "code",
   "execution_count": 21,
   "id": "9381c34b",
   "metadata": {},
   "outputs": [
    {
     "data": {
      "text/plain": [
       "<AxesSubplot:xlabel='WHO Region'>"
      ]
     },
     "execution_count": 21,
     "metadata": {},
     "output_type": "execute_result"
    },
    {
     "data": {
      "image/png": "[encoded data removed]",
      "text/plain": [
       "<Figure size 864x432 with 1 Axes>"
      ]
     },
     "metadata": {
      "needs_background": "light"
     },
     "output_type": "display_data"
    }
   ],
   "source": [
    "sec_df.plot(kind = 'bar', x='WHO Region', y = sec_df.columns.tolist()[1:], figsize=(12, 6))"
   ]
  },
  {
   "cell_type": "code",
   "execution_count": null,
   "id": "bfb4f2cd",
   "metadata": {},
   "outputs": [],
   "source": []
  }
 ],
 "metadata": {
  "kernelspec": {
   "display_name": "Python 3 (ipykernel)",
   "language": "python",
   "name": "python3"
  },
  "language_info": {
   "codemirror_mode": {
    "name": "ipython",
    "version": 3
   },
   "file_extension": ".py",
   "mimetype": "text/x-python",
   "name": "python",
   "nbconvert_exporter": "python",
   "pygments_lexer": "ipython3",
   "version": "3.9.12"
  }
 },
 "nbformat": 4,
 "nbformat_minor": 5
}
