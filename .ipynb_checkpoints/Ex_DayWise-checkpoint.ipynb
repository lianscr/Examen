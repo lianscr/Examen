{
 "cells": [
  {
   "cell_type": "code",
   "execution_count": 1,
   "id": "0e541eac",
   "metadata": {},
   "outputs": [],
   "source": [
    "import findspark\n",
    "findspark.init()\n",
    "\n",
    "import pandas as pd\n",
    "import pyspark"
   ]
  },
  {
   "cell_type": "code",
   "execution_count": 2,
   "id": "2dd469a0",
   "metadata": {},
   "outputs": [],
   "source": [
    "from pyspark.sql import functions as f\n",
    "import pandas as pd"
   ]
  },
  {
   "cell_type": "code",
   "execution_count": 3,
   "id": "89c032a0",
   "metadata": {},
   "outputs": [
    {
     "name": "stdout",
     "output_type": "stream",
     "text": [
      "22/08/26 13:41:48 WARN Utils: Your hostname, MacBook-Air-de-Willians.local resolves to a loopback address: 127.0.0.1; using 192.168.18.9 instead (on interface en0)\n",
      "22/08/26 13:41:48 WARN Utils: Set SPARK_LOCAL_IP if you need to bind to another address\n"
     ]
    },
    {
     "name": "stderr",
     "output_type": "stream",
     "text": [
      "Setting default log level to \"WARN\".\n",
      "To adjust logging level use sc.setLogLevel(newLevel). For SparkR, use setLogLevel(newLevel).\n"
     ]
    },
    {
     "name": "stdout",
     "output_type": "stream",
     "text": [
      "22/08/26 13:41:51 WARN NativeCodeLoader: Unable to load native-hadoop library for your platform... using builtin-java classes where applicable\n",
      "22/08/26 13:41:56 WARN Utils: Service 'SparkUI' could not bind on port 4040. Attempting port 4041.\n"
     ]
    }
   ],
   "source": [
    "from pyspark.sql import SparkSession\n",
    "\n",
    "spark = SparkSession.builder\\\n",
    "        .master(\"local[*]\")\\\n",
    "        .appName('PySpark_DayWise')\\\n",
    "        .getOrCreate()"
   ]
  },
  {
   "cell_type": "code",
   "execution_count": 4,
   "id": "109fc541",
   "metadata": {},
   "outputs": [
    {
     "name": "stderr",
     "output_type": "stream",
     "text": [
      "                                                                                \r"
     ]
    },
    {
     "name": "stdout",
     "output_type": "stream",
     "text": [
      "root\n",
      " |-- Date: string (nullable = true)\n",
      " |-- Confirmed: string (nullable = true)\n",
      " |-- Deaths: string (nullable = true)\n",
      " |-- Recovered: string (nullable = true)\n",
      " |-- Active: string (nullable = true)\n",
      " |-- New cases: string (nullable = true)\n",
      " |-- New deaths: string (nullable = true)\n",
      " |-- New recovered: string (nullable = true)\n",
      " |-- Deaths / 100 Cases: string (nullable = true)\n",
      " |-- Recovered / 100 Cases: string (nullable = true)\n",
      " |-- Deaths / 100 Recovered: string (nullable = true)\n",
      " |-- No. of countries: string (nullable = true)\n",
      "\n"
     ]
    }
   ],
   "source": [
    "dataDayWise = spark.read.csv(\n",
    "    'archive/day_wise.csv',\n",
    "    sep = ',',\n",
    "    header = True,\n",
    "    )\n",
    "\n",
    "dataDayWise.printSchema()"
   ]
  },
  {
   "cell_type": "code",
   "execution_count": 5,
   "id": "b36f1d58",
   "metadata": {},
   "outputs": [
    {
     "name": "stdout",
     "output_type": "stream",
     "text": [
      "+----------+---------+------+---------+------+---------+----------+-------------+------------------+---------------------+----------------------+----------------+\n",
      "|      Date|Confirmed|Deaths|Recovered|Active|New cases|New deaths|New recovered|Deaths / 100 Cases|Recovered / 100 Cases|Deaths / 100 Recovered|No. of countries|\n",
      "+----------+---------+------+---------+------+---------+----------+-------------+------------------+---------------------+----------------------+----------------+\n",
      "|2020-01-22|      555|    17|       28|   510|        0|         0|            0|              3.06|                 5.05|                 60.71|               6|\n",
      "|2020-01-23|      654|    18|       30|   606|       99|         1|            2|              2.75|                 4.59|                  60.0|               8|\n",
      "|2020-01-24|      941|    26|       36|   879|      287|         8|            6|              2.76|                 3.83|                 72.22|               9|\n",
      "|2020-01-25|     1434|    42|       39|  1353|      493|        16|            3|              2.93|                 2.72|                107.69|              11|\n",
      "|2020-01-26|     2118|    56|       52|  2010|      684|        14|           13|              2.64|                 2.46|                107.69|              13|\n",
      "|2020-01-27|     2927|    82|       61|  2784|      809|        26|            9|               2.8|                 2.08|                134.43|              16|\n",
      "+----------+---------+------+---------+------+---------+----------+-------------+------------------+---------------------+----------------------+----------------+\n",
      "only showing top 6 rows\n",
      "\n"
     ]
    }
   ],
   "source": [
    "dataDayWise.show(6)"
   ]
  },
  {
   "cell_type": "code",
   "execution_count": 6,
   "id": "5a84be94",
   "metadata": {},
   "outputs": [],
   "source": [
    "from pyspark.sql.types import *\n",
    "\n",
    "data_schema = [\n",
    "               StructField('Date', DateType(), True),\n",
    "               StructField('Confirmed', IntegerType(), True),\n",
    "               StructField('Deaths', IntegerType(), True),\n",
    "               StructField('Recovered', IntegerType(), True),\n",
    "               StructField('Active', IntegerType(), True),\n",
    "               StructField('New cases', IntegerType(), True),\n",
    "               StructField('New deaths', IntegerType(), True),\n",
    "               StructField('New recovered', IntegerType(), True),\n",
    "               StructField('Deaths / 100 Cases', DoubleType(), True),\n",
    "               StructField('Recovered / 100 Cases', DoubleType(), True),\n",
    "               StructField('Deaths / 100 Recovered', DoubleType(), True),\n",
    "               StructField('No. of countries', IntegerType(), True),\n",
    "            ]\n",
    "\n",
    "final_struc = StructType(fields=data_schema)"
   ]
  },
  {
   "cell_type": "code",
   "execution_count": 7,
   "id": "3819885c",
   "metadata": {},
   "outputs": [],
   "source": [
    "dataDayWise = spark.read.csv(\n",
    "    'archive/day_wise.csv',\n",
    "    sep = ',',\n",
    "    header = True,\n",
    "    schema = final_struc\n",
    "    )"
   ]
  },
  {
   "cell_type": "code",
   "execution_count": 8,
   "id": "34a5768f",
   "metadata": {},
   "outputs": [
    {
     "name": "stdout",
     "output_type": "stream",
     "text": [
      "root\n",
      " |-- Date: date (nullable = true)\n",
      " |-- Confirmed: integer (nullable = true)\n",
      " |-- Deaths: integer (nullable = true)\n",
      " |-- Recovered: integer (nullable = true)\n",
      " |-- Active: integer (nullable = true)\n",
      " |-- New cases: integer (nullable = true)\n",
      " |-- New deaths: integer (nullable = true)\n",
      " |-- New recovered: integer (nullable = true)\n",
      " |-- Deaths / 100 Cases: double (nullable = true)\n",
      " |-- Recovered / 100 Cases: double (nullable = true)\n",
      " |-- Deaths / 100 Recovered: double (nullable = true)\n",
      " |-- No. of countries: integer (nullable = true)\n",
      "\n"
     ]
    }
   ],
   "source": [
    "dataDayWise.printSchema()"
   ]
  },
  {
   "cell_type": "code",
   "execution_count": 9,
   "id": "23618908",
   "metadata": {},
   "outputs": [
    {
     "name": "stdout",
     "output_type": "stream",
     "text": [
      "+----------+---------+------+---------+------+---------+----------+-------------+------------------+---------------------+----------------------+----------------+\n",
      "|      Date|Confirmed|Deaths|Recovered|Active|New cases|New deaths|New recovered|Deaths / 100 Cases|Recovered / 100 Cases|Deaths / 100 Recovered|No. of countries|\n",
      "+----------+---------+------+---------+------+---------+----------+-------------+------------------+---------------------+----------------------+----------------+\n",
      "|2020-01-22|      555|    17|       28|   510|        0|         0|            0|              3.06|                 5.05|                 60.71|               6|\n",
      "|2020-01-23|      654|    18|       30|   606|       99|         1|            2|              2.75|                 4.59|                  60.0|               8|\n",
      "|2020-01-24|      941|    26|       36|   879|      287|         8|            6|              2.76|                 3.83|                 72.22|               9|\n",
      "|2020-01-25|     1434|    42|       39|  1353|      493|        16|            3|              2.93|                 2.72|                107.69|              11|\n",
      "|2020-01-26|     2118|    56|       52|  2010|      684|        14|           13|              2.64|                 2.46|                107.69|              13|\n",
      "+----------+---------+------+---------+------+---------+----------+-------------+------------------+---------------------+----------------------+----------------+\n",
      "only showing top 5 rows\n",
      "\n"
     ]
    }
   ],
   "source": [
    "dataDayWise.show(5)"
   ]
  },
  {
   "cell_type": "markdown",
   "id": "e766defd",
   "metadata": {},
   "source": [
    "#### Generando file parquet"
   ]
  },
  {
   "cell_type": "code",
   "execution_count": 11,
   "id": "3ba027d2",
   "metadata": {},
   "outputs": [
    {
     "name": "stderr",
     "output_type": "stream",
     "text": [
      "                                                                                \r"
     ]
    }
   ],
   "source": [
    "dataDayWise.write.save('data/parquets/dataDayWise', format='parquet')"
   ]
  },
  {
   "cell_type": "markdown",
   "id": "e8f2c913",
   "metadata": {},
   "source": [
    "### Formato pandas"
   ]
  },
  {
   "cell_type": "code",
   "execution_count": 12,
   "id": "f610bd3c",
   "metadata": {},
   "outputs": [],
   "source": [
    "import numpy as np"
   ]
  },
  {
   "cell_type": "code",
   "execution_count": 13,
   "id": "1afaab63",
   "metadata": {},
   "outputs": [
    {
     "data": {
      "text/html": [
       "<div>\n",
       "<style scoped>\n",
       "    .dataframe tbody tr th:only-of-type {\n",
       "        vertical-align: middle;\n",
       "    }\n",
       "\n",
       "    .dataframe tbody tr th {\n",
       "        vertical-align: top;\n",
       "    }\n",
       "\n",
       "    .dataframe thead th {\n",
       "        text-align: right;\n",
       "    }\n",
       "</style>\n",
       "<table border=\"1\" class=\"dataframe\">\n",
       "  <thead>\n",
       "    <tr style=\"text-align: right;\">\n",
       "      <th></th>\n",
       "      <th>summary</th>\n",
       "      <th>Confirmed</th>\n",
       "      <th>Deaths</th>\n",
       "      <th>Recovered</th>\n",
       "      <th>Active</th>\n",
       "      <th>New cases</th>\n",
       "      <th>New deaths</th>\n",
       "      <th>New recovered</th>\n",
       "      <th>Deaths / 100 Cases</th>\n",
       "      <th>Recovered / 100 Cases</th>\n",
       "      <th>Deaths / 100 Recovered</th>\n",
       "      <th>No. of countries</th>\n",
       "    </tr>\n",
       "  </thead>\n",
       "  <tbody>\n",
       "    <tr>\n",
       "      <th>0</th>\n",
       "      <td>count</td>\n",
       "      <td>188</td>\n",
       "      <td>188</td>\n",
       "      <td>188</td>\n",
       "      <td>188</td>\n",
       "      <td>188</td>\n",
       "      <td>188</td>\n",
       "      <td>188</td>\n",
       "      <td>188</td>\n",
       "      <td>188</td>\n",
       "      <td>188</td>\n",
       "      <td>188</td>\n",
       "    </tr>\n",
       "    <tr>\n",
       "      <th>1</th>\n",
       "      <td>mean</td>\n",
       "      <td>4406960.010638298</td>\n",
       "      <td>230770.76063829788</td>\n",
       "      <td>2066001.2180851065</td>\n",
       "      <td>2110188.0319148935</td>\n",
       "      <td>87771.02127659574</td>\n",
       "      <td>3478.824468085106</td>\n",
       "      <td>50362.015957446805</td>\n",
       "      <td>4.86063829787234</td>\n",
       "      <td>34.34393617021278</td>\n",
       "      <td>22.104521276595744</td>\n",
       "      <td>144.35106382978722</td>\n",
       "    </tr>\n",
       "    <tr>\n",
       "      <th>2</th>\n",
       "      <td>stddev</td>\n",
       "      <td>4757988.32238103</td>\n",
       "      <td>217929.0941825846</td>\n",
       "      <td>2627976.394982256</td>\n",
       "      <td>1969670.449614726</td>\n",
       "      <td>75295.29325539981</td>\n",
       "      <td>2537.7356524569395</td>\n",
       "      <td>56090.892478856236</td>\n",
       "      <td>1.5795408582931336</td>\n",
       "      <td>16.206158512384242</td>\n",
       "      <td>22.568307087514032</td>\n",
       "      <td>65.17597855560284</td>\n",
       "    </tr>\n",
       "    <tr>\n",
       "      <th>3</th>\n",
       "      <td>min</td>\n",
       "      <td>555</td>\n",
       "      <td>17</td>\n",
       "      <td>28</td>\n",
       "      <td>510</td>\n",
       "      <td>0</td>\n",
       "      <td>0</td>\n",
       "      <td>0</td>\n",
       "      <td>2.04</td>\n",
       "      <td>1.71</td>\n",
       "      <td>6.26</td>\n",
       "      <td>6</td>\n",
       "    </tr>\n",
       "    <tr>\n",
       "      <th>4</th>\n",
       "      <td>max</td>\n",
       "      <td>16480485</td>\n",
       "      <td>654036</td>\n",
       "      <td>9468087</td>\n",
       "      <td>6358362</td>\n",
       "      <td>282756</td>\n",
       "      <td>9966</td>\n",
       "      <td>284394</td>\n",
       "      <td>7.18</td>\n",
       "      <td>57.45</td>\n",
       "      <td>134.43</td>\n",
       "      <td>187</td>\n",
       "    </tr>\n",
       "  </tbody>\n",
       "</table>\n",
       "</div>"
      ],
      "text/plain": [
       "  summary          Confirmed              Deaths           Recovered  \\\n",
       "0   count                188                 188                 188   \n",
       "1    mean  4406960.010638298  230770.76063829788  2066001.2180851065   \n",
       "2  stddev   4757988.32238103   217929.0941825846   2627976.394982256   \n",
       "3     min                555                  17                  28   \n",
       "4     max           16480485              654036             9468087   \n",
       "\n",
       "               Active          New cases          New deaths  \\\n",
       "0                 188                188                 188   \n",
       "1  2110188.0319148935  87771.02127659574   3478.824468085106   \n",
       "2   1969670.449614726  75295.29325539981  2537.7356524569395   \n",
       "3                 510                  0                   0   \n",
       "4             6358362             282756                9966   \n",
       "\n",
       "        New recovered  Deaths / 100 Cases Recovered / 100 Cases  \\\n",
       "0                 188                 188                   188   \n",
       "1  50362.015957446805    4.86063829787234     34.34393617021278   \n",
       "2  56090.892478856236  1.5795408582931336    16.206158512384242   \n",
       "3                   0                2.04                  1.71   \n",
       "4              284394                7.18                 57.45   \n",
       "\n",
       "  Deaths / 100 Recovered    No. of countries  \n",
       "0                    188                 188  \n",
       "1     22.104521276595744  144.35106382978722  \n",
       "2     22.568307087514032   65.17597855560284  \n",
       "3                   6.26                   6  \n",
       "4                 134.43                 187  "
      ]
     },
     "execution_count": 13,
     "metadata": {},
     "output_type": "execute_result"
    }
   ],
   "source": [
    "dataDayWise.describe().toPandas()"
   ]
  },
  {
   "cell_type": "code",
   "execution_count": 15,
   "id": "be029c14",
   "metadata": {},
   "outputs": [
    {
     "name": "stdout",
     "output_type": "stream",
     "text": [
      "+----------+-----------------------+--------------------------+-----------------------+\n",
      "|      Date|avg(Deaths / 100 Cases)|avg(Recovered / 100 Cases)|avg(Deaths / 100 Cases)|\n",
      "+----------+-----------------------+--------------------------+-----------------------+\n",
      "|2020-07-24|                   4.05|                     56.61|                   4.05|\n",
      "|2020-04-30|                   7.18|                     30.27|                   7.18|\n",
      "|2020-03-07|                   3.37|                      53.9|                   3.37|\n",
      "|2020-03-13|                    3.7|                     46.82|                    3.7|\n",
      "|2020-02-04|                   2.06|                      3.44|                   2.06|\n",
      "|2020-02-15|                   2.42|                     12.95|                   2.42|\n",
      "|2020-05-23|                   6.45|                     38.76|                   6.45|\n",
      "|2020-02-12|                    2.4|                     10.41|                    2.4|\n",
      "|2020-05-08|                   7.01|                     32.59|                   7.01|\n",
      "|2020-05-24|                    6.4|                     39.09|                    6.4|\n",
      "|2020-06-04|                    5.9|                     43.48|                    5.9|\n",
      "|2020-04-29|                   7.18|                     29.06|                   7.18|\n",
      "|2020-05-10|                   6.92|                     33.38|                   6.92|\n",
      "|2020-01-25|                   2.93|                      2.72|                   2.93|\n",
      "|2020-04-26|                   7.11|                     27.87|                   7.11|\n",
      "|2020-04-21|                   7.09|                     26.01|                   7.09|\n",
      "|2020-03-09|                   3.52|                     53.81|                   3.52|\n",
      "|2020-07-05|                   4.66|                      53.3|                   4.66|\n",
      "|2020-03-10|                    3.6|                     53.14|                    3.6|\n",
      "|2020-03-11|                   3.66|                     51.74|                   3.66|\n",
      "+----------+-----------------------+--------------------------+-----------------------+\n",
      "only showing top 20 rows\n",
      "\n"
     ]
    }
   ],
   "source": [
    "dataDayWise.select(['Date', 'Deaths / 100 Cases', 'Recovered / 100 Cases', 'Deaths / 100 Cases']).groupBy('Date').mean().show()"
   ]
  },
  {
   "cell_type": "code",
   "execution_count": null,
   "id": "4d04bda0",
   "metadata": {},
   "outputs": [],
   "source": []
  }
 ],
 "metadata": {
  "kernelspec": {
   "display_name": "Python 3 (ipykernel)",
   "language": "python",
   "name": "python3"
  },
  "language_info": {
   "codemirror_mode": {
    "name": "ipython",
    "version": 3
   },
   "file_extension": ".py",
   "mimetype": "text/x-python",
   "name": "python",
   "nbconvert_exporter": "python",
   "pygments_lexer": "ipython3",
   "version": "3.9.12"
  }
 },
 "nbformat": 4,
 "nbformat_minor": 5
}
