{
 "cells": [
  {
   "cell_type": "code",
   "execution_count": 1,
   "id": "5cf2f393",
   "metadata": {},
   "outputs": [],
   "source": [
    "import findspark\n",
    "findspark.init()\n",
    "\n",
    "import pandas as pd\n",
    "import pyspark"
   ]
  },
  {
   "cell_type": "code",
   "execution_count": 2,
   "id": "a9806668",
   "metadata": {},
   "outputs": [],
   "source": [
    "from pyspark.sql import functions as f\n",
    "import pandas as pd\n",
    "import matplotlib.pyplot as plt"
   ]
  },
  {
   "cell_type": "code",
   "execution_count": 3,
   "id": "cb180fb2",
   "metadata": {},
   "outputs": [
    {
     "name": "stdout",
     "output_type": "stream",
     "text": [
      "22/08/30 10:30:59 WARN Utils: Your hostname, MacBook-Air-de-Willians.local resolves to a loopback address: 127.0.0.1; using 192.168.18.9 instead (on interface en0)\n",
      "22/08/30 10:30:59 WARN Utils: Set SPARK_LOCAL_IP if you need to bind to another address\n"
     ]
    },
    {
     "name": "stderr",
     "output_type": "stream",
     "text": [
      "Setting default log level to \"WARN\".\n",
      "To adjust logging level use sc.setLogLevel(newLevel). For SparkR, use setLogLevel(newLevel).\n"
     ]
    },
    {
     "name": "stdout",
     "output_type": "stream",
     "text": [
      "22/08/30 10:31:00 WARN NativeCodeLoader: Unable to load native-hadoop library for your platform... using builtin-java classes where applicable\n",
      "22/08/30 10:31:01 WARN Utils: Service 'SparkUI' could not bind on port 4040. Attempting port 4041.\n",
      "22/08/30 10:31:01 WARN Utils: Service 'SparkUI' could not bind on port 4041. Attempting port 4042.\n",
      "22/08/30 10:31:01 WARN Utils: Service 'SparkUI' could not bind on port 4042. Attempting port 4043.\n"
     ]
    }
   ],
   "source": [
    "from pyspark.sql import SparkSession\n",
    "\n",
    "spark = SparkSession.builder\\\n",
    "        .master(\"local[*]\")\\\n",
    "        .appName('PySpark_World')\\\n",
    "        .getOrCreate()"
   ]
  },
  {
   "cell_type": "code",
   "execution_count": 4,
   "id": "0179b5f2",
   "metadata": {},
   "outputs": [
    {
     "name": "stderr",
     "output_type": "stream",
     "text": [
      "                                                                                \r"
     ]
    },
    {
     "name": "stdout",
     "output_type": "stream",
     "text": [
      "root\n",
      " |-- Country/Region: string (nullable = true)\n",
      " |-- Continent: string (nullable = true)\n",
      " |-- Population: string (nullable = true)\n",
      " |-- TotalCases: string (nullable = true)\n",
      " |-- NewCases: string (nullable = true)\n",
      " |-- TotalDeaths: string (nullable = true)\n",
      " |-- NewDeaths: string (nullable = true)\n",
      " |-- TotalRecovered: string (nullable = true)\n",
      " |-- NewRecovered: string (nullable = true)\n",
      " |-- ActiveCases: string (nullable = true)\n",
      " |-- Serious,Critical: string (nullable = true)\n",
      " |-- Tot Cases/1M pop: string (nullable = true)\n",
      " |-- Deaths/1M pop: string (nullable = true)\n",
      " |-- TotalTests: string (nullable = true)\n",
      " |-- Tests/1M pop: string (nullable = true)\n",
      " |-- WHO Region: string (nullable = true)\n",
      "\n"
     ]
    }
   ],
   "source": [
    "dataW = spark.read.csv(\n",
    "    'archive/worldometer_data.csv',\n",
    "    sep = ',',\n",
    "    header = True,\n",
    "    )\n",
    "\n",
    "dataW.printSchema()"
   ]
  },
  {
   "cell_type": "code",
   "execution_count": 5,
   "id": "08a979f8",
   "metadata": {},
   "outputs": [
    {
     "name": "stdout",
     "output_type": "stream",
     "text": [
      "+--------------+-------------+----------+----------+--------+-----------+---------+--------------+------------+-----------+----------------+----------------+-------------+----------+------------+--------------+\n",
      "|Country/Region|    Continent|Population|TotalCases|NewCases|TotalDeaths|NewDeaths|TotalRecovered|NewRecovered|ActiveCases|Serious,Critical|Tot Cases/1M pop|Deaths/1M pop|TotalTests|Tests/1M pop|    WHO Region|\n",
      "+--------------+-------------+----------+----------+--------+-----------+---------+--------------+------------+-----------+----------------+----------------+-------------+----------+------------+--------------+\n",
      "|           USA|North America| 331198130|   5032179|    null|     162804|     null|       2576668|        null|    2292707|           18296|           15194|          492|  63139605|      190640|      Americas|\n",
      "|        Brazil|South America| 212710692|   2917562|    null|      98644|     null|       2047660|        null|     771258|            8318|           13716|          464|  13206188|       62085|      Americas|\n",
      "|         India|         Asia|1381344997|   2025409|    null|      41638|     null|       1377384|        null|     606387|            8944|            1466|           30|  22149351|       16035|South-EastAsia|\n",
      "|        Russia|       Europe| 145940924|    871894|    null|      14606|     null|        676357|        null|     180931|            2300|            5974|          100|  29716907|      203623|        Europe|\n",
      "+--------------+-------------+----------+----------+--------+-----------+---------+--------------+------------+-----------+----------------+----------------+-------------+----------+------------+--------------+\n",
      "only showing top 4 rows\n",
      "\n"
     ]
    }
   ],
   "source": [
    "dataW.show(4)"
   ]
  },
  {
   "cell_type": "code",
   "execution_count": 6,
   "id": "6ced65ba",
   "metadata": {},
   "outputs": [],
   "source": [
    "from pyspark.sql.types import *\n",
    "\n",
    "data_schema = [\n",
    "               StructField('Country/Region', StringType(), True),\n",
    "               StructField('Continent', StringType(), True),\n",
    "               StructField('Population', IntegerType(), True),\n",
    "               StructField('TotalCases', IntegerType(), True),\n",
    "               StructField('NewCases', IntegerType(), True),\n",
    "               StructField('TotalDeaths', IntegerType(), True),\n",
    "               StructField('NewDeaths', IntegerType(), True),\n",
    "               StructField('TotalRecovered', IntegerType(), True),\n",
    "               StructField('NewRecovered', IntegerType(), True),\n",
    "               StructField('ActiveCases', IntegerType(), True),\n",
    "               StructField('Serious,Critical', IntegerType(), True),\n",
    "               StructField('Tot Cases/1M pop', IntegerType(), True),\n",
    "               StructField('Deaths/1M pop', IntegerType(), True),\n",
    "               StructField('TotalTests', IntegerType(), True),\n",
    "               StructField('Tests/1M pop', IntegerType(), True),\n",
    "               StructField('WHO Region', StringType(), True),\n",
    "            ]\n",
    "\n",
    "final_struc = StructType(fields=data_schema)"
   ]
  },
  {
   "cell_type": "code",
   "execution_count": 7,
   "id": "0f65bf68",
   "metadata": {},
   "outputs": [],
   "source": [
    "dataWorld = spark.read.csv(\n",
    "    'archive/worldometer_data.csv',\n",
    "    sep = ',',\n",
    "    header = True,\n",
    "    schema = final_struc\n",
    "    )"
   ]
  },
  {
   "cell_type": "code",
   "execution_count": 8,
   "id": "5e1352c3",
   "metadata": {},
   "outputs": [
    {
     "name": "stdout",
     "output_type": "stream",
     "text": [
      "root\n",
      " |-- Country/Region: string (nullable = true)\n",
      " |-- Continent: string (nullable = true)\n",
      " |-- Population: integer (nullable = true)\n",
      " |-- TotalCases: integer (nullable = true)\n",
      " |-- NewCases: integer (nullable = true)\n",
      " |-- TotalDeaths: integer (nullable = true)\n",
      " |-- NewDeaths: integer (nullable = true)\n",
      " |-- TotalRecovered: integer (nullable = true)\n",
      " |-- NewRecovered: integer (nullable = true)\n",
      " |-- ActiveCases: integer (nullable = true)\n",
      " |-- Serious,Critical: integer (nullable = true)\n",
      " |-- Tot Cases/1M pop: integer (nullable = true)\n",
      " |-- Deaths/1M pop: integer (nullable = true)\n",
      " |-- TotalTests: integer (nullable = true)\n",
      " |-- Tests/1M pop: integer (nullable = true)\n",
      " |-- WHO Region: string (nullable = true)\n",
      "\n"
     ]
    }
   ],
   "source": [
    "dataWorld.printSchema()"
   ]
  },
  {
   "cell_type": "code",
   "execution_count": 9,
   "id": "1ef1da1a",
   "metadata": {},
   "outputs": [
    {
     "name": "stdout",
     "output_type": "stream",
     "text": [
      "+--------------+-------------+----------+----------+--------+-----------+---------+--------------+------------+-----------+----------------+----------------+-------------+----------+------------+--------------+\n",
      "|Country/Region|    Continent|Population|TotalCases|NewCases|TotalDeaths|NewDeaths|TotalRecovered|NewRecovered|ActiveCases|Serious,Critical|Tot Cases/1M pop|Deaths/1M pop|TotalTests|Tests/1M pop|    WHO Region|\n",
      "+--------------+-------------+----------+----------+--------+-----------+---------+--------------+------------+-----------+----------------+----------------+-------------+----------+------------+--------------+\n",
      "|           USA|North America| 331198130|   5032179|    null|     162804|     null|       2576668|        null|    2292707|           18296|           15194|          492|  63139605|      190640|      Americas|\n",
      "|        Brazil|South America| 212710692|   2917562|    null|      98644|     null|       2047660|        null|     771258|            8318|           13716|          464|  13206188|       62085|      Americas|\n",
      "|         India|         Asia|1381344997|   2025409|    null|      41638|     null|       1377384|        null|     606387|            8944|            1466|           30|  22149351|       16035|South-EastAsia|\n",
      "|        Russia|       Europe| 145940924|    871894|    null|      14606|     null|        676357|        null|     180931|            2300|            5974|          100|  29716907|      203623|        Europe|\n",
      "|  South Africa|       Africa|  59381566|    538184|    null|       9604|     null|        387316|        null|     141264|             539|            9063|          162|   3149807|       53044|        Africa|\n",
      "|        Mexico|North America| 129066160|    462690|    6590|      50517|      819|        308848|        4140|     103325|            3987|            3585|          391|   1056915|        8189|      Americas|\n",
      "+--------------+-------------+----------+----------+--------+-----------+---------+--------------+------------+-----------+----------------+----------------+-------------+----------+------------+--------------+\n",
      "only showing top 6 rows\n",
      "\n"
     ]
    }
   ],
   "source": [
    "dataWorld.show(6)"
   ]
  },
  {
   "cell_type": "markdown",
   "id": "3fc8bd3f",
   "metadata": {},
   "source": [
    "#### Generando file parquet"
   ]
  },
  {
   "cell_type": "code",
   "execution_count": 10,
   "id": "07b39d2f",
   "metadata": {},
   "outputs": [
    {
     "name": "stderr",
     "output_type": "stream",
     "text": [
      "                                                                                \r"
     ]
    }
   ],
   "source": [
    "dataWorld.write.parquet('data/parquets/worldometer')"
   ]
  },
  {
   "cell_type": "code",
   "execution_count": 11,
   "id": "f8085b84",
   "metadata": {},
   "outputs": [
    {
     "name": "stderr",
     "output_type": "stream",
     "text": [
      "                                                                                \r"
     ]
    },
    {
     "data": {
      "text/html": [
       "<div>\n",
       "<style scoped>\n",
       "    .dataframe tbody tr th:only-of-type {\n",
       "        vertical-align: middle;\n",
       "    }\n",
       "\n",
       "    .dataframe tbody tr th {\n",
       "        vertical-align: top;\n",
       "    }\n",
       "\n",
       "    .dataframe thead th {\n",
       "        text-align: right;\n",
       "    }\n",
       "</style>\n",
       "<table border=\"1\" class=\"dataframe\">\n",
       "  <thead>\n",
       "    <tr style=\"text-align: right;\">\n",
       "      <th></th>\n",
       "      <th>summary</th>\n",
       "      <th>Country/Region</th>\n",
       "      <th>Continent</th>\n",
       "      <th>Population</th>\n",
       "      <th>TotalCases</th>\n",
       "      <th>NewCases</th>\n",
       "      <th>TotalDeaths</th>\n",
       "      <th>NewDeaths</th>\n",
       "      <th>TotalRecovered</th>\n",
       "      <th>NewRecovered</th>\n",
       "      <th>ActiveCases</th>\n",
       "      <th>Serious,Critical</th>\n",
       "      <th>Tot Cases/1M pop</th>\n",
       "      <th>Deaths/1M pop</th>\n",
       "      <th>TotalTests</th>\n",
       "      <th>Tests/1M pop</th>\n",
       "      <th>WHO Region</th>\n",
       "    </tr>\n",
       "  </thead>\n",
       "  <tbody>\n",
       "    <tr>\n",
       "      <th>0</th>\n",
       "      <td>count</td>\n",
       "      <td>209</td>\n",
       "      <td>208</td>\n",
       "      <td>208</td>\n",
       "      <td>209</td>\n",
       "      <td>4</td>\n",
       "      <td>188</td>\n",
       "      <td>3</td>\n",
       "      <td>205</td>\n",
       "      <td>3</td>\n",
       "      <td>205</td>\n",
       "      <td>122</td>\n",
       "      <td>208</td>\n",
       "      <td>175</td>\n",
       "      <td>191</td>\n",
       "      <td>191</td>\n",
       "      <td>184</td>\n",
       "    </tr>\n",
       "    <tr>\n",
       "      <th>1</th>\n",
       "      <td>mean</td>\n",
       "      <td>None</td>\n",
       "      <td>None</td>\n",
       "      <td>3.0415486971153848E7</td>\n",
       "      <td>91718.4976076555</td>\n",
       "      <td>1980.5</td>\n",
       "      <td>3792.590425531915</td>\n",
       "      <td>300.0</td>\n",
       "      <td>58878.980487804874</td>\n",
       "      <td>1706.0</td>\n",
       "      <td>27664.32682926829</td>\n",
       "      <td>534.3934426229508</td>\n",
       "      <td>3196.0240384615386</td>\n",
       "      <td>105.42285714285714</td>\n",
       "      <td>1402404.7015706806</td>\n",
       "      <td>83959.3664921466</td>\n",
       "      <td>None</td>\n",
       "    </tr>\n",
       "    <tr>\n",
       "      <th>2</th>\n",
       "      <td>stddev</td>\n",
       "      <td>None</td>\n",
       "      <td>None</td>\n",
       "      <td>1.0476609948117347E8</td>\n",
       "      <td>432586.680941832</td>\n",
       "      <td>3129.6114242293193</td>\n",
       "      <td>15487.184877168187</td>\n",
       "      <td>451.1995124110841</td>\n",
       "      <td>256698.40689837997</td>\n",
       "      <td>2154.779803135346</td>\n",
       "      <td>174632.73692792188</td>\n",
       "      <td>2047.5186133519674</td>\n",
       "      <td>5191.986456701241</td>\n",
       "      <td>178.90944714895895</td>\n",
       "      <td>5553366.67043168</td>\n",
       "      <td>152730.59123995784</td>\n",
       "      <td>None</td>\n",
       "    </tr>\n",
       "    <tr>\n",
       "      <th>3</th>\n",
       "      <td>min</td>\n",
       "      <td>Afghanistan</td>\n",
       "      <td>Africa</td>\n",
       "      <td>801</td>\n",
       "      <td>10</td>\n",
       "      <td>20</td>\n",
       "      <td>1</td>\n",
       "      <td>1</td>\n",
       "      <td>7</td>\n",
       "      <td>42</td>\n",
       "      <td>0</td>\n",
       "      <td>1</td>\n",
       "      <td>3</td>\n",
       "      <td>1</td>\n",
       "      <td>61</td>\n",
       "      <td>4</td>\n",
       "      <td>Africa</td>\n",
       "    </tr>\n",
       "    <tr>\n",
       "      <th>4</th>\n",
       "      <td>max</td>\n",
       "      <td>Zimbabwe</td>\n",
       "      <td>South America</td>\n",
       "      <td>1381344997</td>\n",
       "      <td>5032179</td>\n",
       "      <td>6590</td>\n",
       "      <td>162804</td>\n",
       "      <td>819</td>\n",
       "      <td>2576668</td>\n",
       "      <td>4140</td>\n",
       "      <td>2292707</td>\n",
       "      <td>18296</td>\n",
       "      <td>39922</td>\n",
       "      <td>1238</td>\n",
       "      <td>63139605</td>\n",
       "      <td>995282</td>\n",
       "      <td>WesternPacific</td>\n",
       "    </tr>\n",
       "  </tbody>\n",
       "</table>\n",
       "</div>"
      ],
      "text/plain": [
       "  summary Country/Region      Continent            Population  \\\n",
       "0   count            209            208                   208   \n",
       "1    mean           None           None  3.0415486971153848E7   \n",
       "2  stddev           None           None  1.0476609948117347E8   \n",
       "3     min    Afghanistan         Africa                   801   \n",
       "4     max       Zimbabwe  South America            1381344997   \n",
       "\n",
       "         TotalCases            NewCases         TotalDeaths  \\\n",
       "0               209                   4                 188   \n",
       "1  91718.4976076555              1980.5   3792.590425531915   \n",
       "2  432586.680941832  3129.6114242293193  15487.184877168187   \n",
       "3                10                  20                   1   \n",
       "4           5032179                6590              162804   \n",
       "\n",
       "           NewDeaths      TotalRecovered       NewRecovered  \\\n",
       "0                  3                 205                  3   \n",
       "1              300.0  58878.980487804874             1706.0   \n",
       "2  451.1995124110841  256698.40689837997  2154.779803135346   \n",
       "3                  1                   7                 42   \n",
       "4                819             2576668               4140   \n",
       "\n",
       "          ActiveCases    Serious,Critical    Tot Cases/1M pop  \\\n",
       "0                 205                 122                 208   \n",
       "1   27664.32682926829   534.3934426229508  3196.0240384615386   \n",
       "2  174632.73692792188  2047.5186133519674   5191.986456701241   \n",
       "3                   0                   1                   3   \n",
       "4             2292707               18296               39922   \n",
       "\n",
       "        Deaths/1M pop          TotalTests        Tests/1M pop      WHO Region  \n",
       "0                 175                 191                 191             184  \n",
       "1  105.42285714285714  1402404.7015706806    83959.3664921466            None  \n",
       "2  178.90944714895895    5553366.67043168  152730.59123995784            None  \n",
       "3                   1                  61                   4          Africa  \n",
       "4                1238            63139605              995282  WesternPacific  "
      ]
     },
     "execution_count": 11,
     "metadata": {},
     "output_type": "execute_result"
    }
   ],
   "source": [
    "dataWorld.describe().toPandas()"
   ]
  },
  {
   "cell_type": "markdown",
   "id": "cd98f655",
   "metadata": {},
   "source": [
    "### Agrupando datos por Continent"
   ]
  },
  {
   "cell_type": "code",
   "execution_count": 12,
   "id": "0a63aade",
   "metadata": {},
   "outputs": [
    {
     "name": "stdout",
     "output_type": "stream",
     "text": [
      "+-----------------+--------------------+------------------+------------------+-------------------+\n",
      "|        Continent|     avg(Population)|   avg(TotalCases)|  avg(TotalDeaths)|avg(TotalRecovered)|\n",
      "+-----------------+--------------------+------------------+------------------+-------------------+\n",
      "|           Europe|1.5576615541666666E7|           62137.0| 4560.711111111111| 36075.045454545456|\n",
      "|           Africa|2.3570447175438598E7|17752.052631578947|402.07272727272726| 12168.771929824561|\n",
      "|             null|                null|             712.0|              13.0|              651.0|\n",
      "|Australia/Oceania|   6826318.166666667|            3622.5|             70.25| 2103.3333333333335|\n",
      "|    North America|        1.68429562E7|169120.25714285715| 8209.107142857143|  90047.94285714286|\n",
      "|    South America| 3.079360457142857E7|          324519.5| 11914.23076923077| 222582.14285714287|\n",
      "|             Asia|6.6117841979166664E7| 97704.04166666667|2395.8809523809523|          73086.875|\n",
      "+-----------------+--------------------+------------------+------------------+-------------------+\n",
      "\n"
     ]
    }
   ],
   "source": [
    "dataWorld.select(['Continent', 'Population', 'TotalCases', 'TotalDeaths', 'TotalRecovered']).groupBy('Continent').mean().show()"
   ]
  },
  {
   "cell_type": "code",
   "execution_count": 13,
   "id": "c5abb50a",
   "metadata": {},
   "outputs": [],
   "source": [
    "sec_df = dataWorld.select(['Continent', 'Population', 'TotalCases', 'TotalDeaths', 'TotalRecovered']).groupBy('Continent').mean().toPandas()"
   ]
  },
  {
   "cell_type": "code",
   "execution_count": 14,
   "id": "fdfd7596",
   "metadata": {},
   "outputs": [
    {
     "data": {
      "text/html": [
       "<div>\n",
       "<style scoped>\n",
       "    .dataframe tbody tr th:only-of-type {\n",
       "        vertical-align: middle;\n",
       "    }\n",
       "\n",
       "    .dataframe tbody tr th {\n",
       "        vertical-align: top;\n",
       "    }\n",
       "\n",
       "    .dataframe thead th {\n",
       "        text-align: right;\n",
       "    }\n",
       "</style>\n",
       "<table border=\"1\" class=\"dataframe\">\n",
       "  <thead>\n",
       "    <tr style=\"text-align: right;\">\n",
       "      <th></th>\n",
       "      <th>Continent</th>\n",
       "      <th>avg(Population)</th>\n",
       "      <th>avg(TotalCases)</th>\n",
       "      <th>avg(TotalDeaths)</th>\n",
       "      <th>avg(TotalRecovered)</th>\n",
       "    </tr>\n",
       "  </thead>\n",
       "  <tbody>\n",
       "    <tr>\n",
       "      <th>0</th>\n",
       "      <td>Europe</td>\n",
       "      <td>1.557662e+07</td>\n",
       "      <td>62137.000000</td>\n",
       "      <td>4560.711111</td>\n",
       "      <td>36075.045455</td>\n",
       "    </tr>\n",
       "    <tr>\n",
       "      <th>1</th>\n",
       "      <td>Africa</td>\n",
       "      <td>2.357045e+07</td>\n",
       "      <td>17752.052632</td>\n",
       "      <td>402.072727</td>\n",
       "      <td>12168.771930</td>\n",
       "    </tr>\n",
       "    <tr>\n",
       "      <th>2</th>\n",
       "      <td>None</td>\n",
       "      <td>NaN</td>\n",
       "      <td>712.000000</td>\n",
       "      <td>13.000000</td>\n",
       "      <td>651.000000</td>\n",
       "    </tr>\n",
       "    <tr>\n",
       "      <th>3</th>\n",
       "      <td>Australia/Oceania</td>\n",
       "      <td>6.826318e+06</td>\n",
       "      <td>3622.500000</td>\n",
       "      <td>70.250000</td>\n",
       "      <td>2103.333333</td>\n",
       "    </tr>\n",
       "    <tr>\n",
       "      <th>4</th>\n",
       "      <td>North America</td>\n",
       "      <td>1.684296e+07</td>\n",
       "      <td>169120.257143</td>\n",
       "      <td>8209.107143</td>\n",
       "      <td>90047.942857</td>\n",
       "    </tr>\n",
       "    <tr>\n",
       "      <th>5</th>\n",
       "      <td>South America</td>\n",
       "      <td>3.079360e+07</td>\n",
       "      <td>324519.500000</td>\n",
       "      <td>11914.230769</td>\n",
       "      <td>222582.142857</td>\n",
       "    </tr>\n",
       "    <tr>\n",
       "      <th>6</th>\n",
       "      <td>Asia</td>\n",
       "      <td>6.611784e+07</td>\n",
       "      <td>97704.041667</td>\n",
       "      <td>2395.880952</td>\n",
       "      <td>73086.875000</td>\n",
       "    </tr>\n",
       "  </tbody>\n",
       "</table>\n",
       "</div>"
      ],
      "text/plain": [
       "           Continent  avg(Population)  avg(TotalCases)  avg(TotalDeaths)  \\\n",
       "0             Europe     1.557662e+07     62137.000000       4560.711111   \n",
       "1             Africa     2.357045e+07     17752.052632        402.072727   \n",
       "2               None              NaN       712.000000         13.000000   \n",
       "3  Australia/Oceania     6.826318e+06      3622.500000         70.250000   \n",
       "4      North America     1.684296e+07    169120.257143       8209.107143   \n",
       "5      South America     3.079360e+07    324519.500000      11914.230769   \n",
       "6               Asia     6.611784e+07     97704.041667       2395.880952   \n",
       "\n",
       "   avg(TotalRecovered)  \n",
       "0         36075.045455  \n",
       "1         12168.771930  \n",
       "2           651.000000  \n",
       "3          2103.333333  \n",
       "4         90047.942857  \n",
       "5        222582.142857  \n",
       "6         73086.875000  "
      ]
     },
     "execution_count": 14,
     "metadata": {},
     "output_type": "execute_result"
    }
   ],
   "source": [
    "sec_df"
   ]
  },
  {
   "cell_type": "code",
   "execution_count": 15,
   "id": "5d98db70",
   "metadata": {},
   "outputs": [
    {
     "data": {
      "text/plain": [
       "<AxesSubplot:xlabel='Continent'>"
      ]
     },
     "execution_count": 15,
     "metadata": {},
     "output_type": "execute_result"
    },
    {
     "data": {
      "image/png": "[encoded data removed]",
      "text/plain": [
       "<Figure size 864x432 with 1 Axes>"
      ]
     },
     "metadata": {
      "needs_background": "light"
     },
     "output_type": "display_data"
    }
   ],
   "source": [
    "sec_df.plot(kind = 'bar', x='Continent', y = sec_df.columns.tolist()[1:], figsize=(12, 6))"
   ]
  }
 ],
 "metadata": {
  "kernelspec": {
   "display_name": "Python 3 (ipykernel)",
   "language": "python",
   "name": "python3"
  },
  "language_info": {
   "codemirror_mode": {
    "name": "ipython",
    "version": 3
   },
   "file_extension": ".py",
   "mimetype": "text/x-python",
   "name": "python",
   "nbconvert_exporter": "python",
   "pygments_lexer": "ipython3",
   "version": "3.9.12"
  }
 },
 "nbformat": 4,
 "nbformat_minor": 5
}
