{
 "cells": [
  {
   "cell_type": "code",
   "execution_count": 1,
   "id": "d6cbf067",
   "metadata": {},
   "outputs": [],
   "source": [
    "import findspark\n",
    "findspark.init()\n",
    "\n",
    "import pandas as pd\n",
    "import pyspark"
   ]
  },
  {
   "cell_type": "code",
   "execution_count": 2,
   "id": "ae5b6544",
   "metadata": {},
   "outputs": [],
   "source": [
    "from pyspark.sql import functions as f\n",
    "import pandas as pd\n",
    "import matplotlib.pyplot as plt"
   ]
  },
  {
   "cell_type": "code",
   "execution_count": 3,
   "id": "7d5403e4",
   "metadata": {},
   "outputs": [
    {
     "name": "stdout",
     "output_type": "stream",
     "text": [
      "22/08/26 13:57:13 WARN Utils: Your hostname, MacBook-Air-de-Willians.local resolves to a loopback address: 127.0.0.1; using 192.168.18.9 instead (on interface en0)\n",
      "22/08/26 13:57:13 WARN Utils: Set SPARK_LOCAL_IP if you need to bind to another address\n"
     ]
    },
    {
     "name": "stderr",
     "output_type": "stream",
     "text": [
      "Setting default log level to \"WARN\".\n",
      "To adjust logging level use sc.setLogLevel(newLevel). For SparkR, use setLogLevel(newLevel).\n"
     ]
    },
    {
     "name": "stdout",
     "output_type": "stream",
     "text": [
      "22/08/26 13:57:15 WARN NativeCodeLoader: Unable to load native-hadoop library for your platform... using builtin-java classes where applicable\n",
      "22/08/26 13:57:16 WARN Utils: Service 'SparkUI' could not bind on port 4040. Attempting port 4041.\n",
      "22/08/26 13:57:16 WARN Utils: Service 'SparkUI' could not bind on port 4041. Attempting port 4042.\n"
     ]
    }
   ],
   "source": [
    "from pyspark.sql import SparkSession\n",
    "\n",
    "spark = SparkSession.builder\\\n",
    "        .master(\"local[*]\")\\\n",
    "        .appName('PySpark_FullGrouped')\\\n",
    "        .getOrCreate()"
   ]
  },
  {
   "cell_type": "code",
   "execution_count": 4,
   "id": "45e01c82",
   "metadata": {},
   "outputs": [
    {
     "name": "stderr",
     "output_type": "stream",
     "text": [
      "                                                                                \r"
     ]
    },
    {
     "name": "stdout",
     "output_type": "stream",
     "text": [
      "root\n",
      " |-- Date: string (nullable = true)\n",
      " |-- Country/Region: string (nullable = true)\n",
      " |-- Confirmed: string (nullable = true)\n",
      " |-- Deaths: string (nullable = true)\n",
      " |-- Recovered: string (nullable = true)\n",
      " |-- Active: string (nullable = true)\n",
      " |-- New cases: string (nullable = true)\n",
      " |-- New deaths: string (nullable = true)\n",
      " |-- New recovered: string (nullable = true)\n",
      " |-- WHO Region: string (nullable = true)\n",
      "\n"
     ]
    }
   ],
   "source": [
    "dataGrouped = spark.read.csv(\n",
    "    'archive/full_grouped.csv',\n",
    "    sep = ',',\n",
    "    header = True,\n",
    "    )\n",
    "\n",
    "dataGrouped.printSchema()"
   ]
  },
  {
   "cell_type": "code",
   "execution_count": 5,
   "id": "c19d3ad1",
   "metadata": {},
   "outputs": [
    {
     "name": "stdout",
     "output_type": "stream",
     "text": [
      "+----------+-------------------+---------+------+---------+------+---------+----------+-------------+--------------------+\n",
      "|      Date|     Country/Region|Confirmed|Deaths|Recovered|Active|New cases|New deaths|New recovered|          WHO Region|\n",
      "+----------+-------------------+---------+------+---------+------+---------+----------+-------------+--------------------+\n",
      "|2020-01-22|        Afghanistan|        0|     0|        0|     0|        0|         0|            0|Eastern Mediterra...|\n",
      "|2020-01-22|            Albania|        0|     0|        0|     0|        0|         0|            0|              Europe|\n",
      "|2020-01-22|            Algeria|        0|     0|        0|     0|        0|         0|            0|              Africa|\n",
      "|2020-01-22|            Andorra|        0|     0|        0|     0|        0|         0|            0|              Europe|\n",
      "|2020-01-22|             Angola|        0|     0|        0|     0|        0|         0|            0|              Africa|\n",
      "|2020-01-22|Antigua and Barbuda|        0|     0|        0|     0|        0|         0|            0|            Americas|\n",
      "+----------+-------------------+---------+------+---------+------+---------+----------+-------------+--------------------+\n",
      "only showing top 6 rows\n",
      "\n"
     ]
    }
   ],
   "source": [
    "dataGrouped.show(6)"
   ]
  },
  {
   "cell_type": "code",
   "execution_count": 6,
   "id": "222f1af7",
   "metadata": {},
   "outputs": [],
   "source": [
    "from pyspark.sql.types import *\n",
    "\n",
    "data_schema = [\n",
    "               StructField('Date', DateType(), True),\n",
    "               StructField('Country/Region', IntegerType(), True),\n",
    "               StructField('Confirmed', IntegerType(), True),\n",
    "               StructField('Deaths', IntegerType(), True),\n",
    "               StructField('Recovered', IntegerType(), True),\n",
    "               StructField('Active', IntegerType(), True),\n",
    "               StructField('New cases', IntegerType(), True),\n",
    "               StructField('New deaths', IntegerType(), True),\n",
    "               StructField('New recovered', IntegerType(), True),\n",
    "               StructField('WHO Region', StringType(), True),\n",
    "            ]\n",
    "\n",
    "final_struc = StructType(fields=data_schema)"
   ]
  },
  {
   "cell_type": "code",
   "execution_count": 7,
   "id": "8d0e0c58",
   "metadata": {},
   "outputs": [],
   "source": [
    "dataFgrouped = spark.read.csv(\n",
    "    'archive/full_grouped.csv',\n",
    "    sep = ',',\n",
    "    header = True,\n",
    "    schema = final_struc\n",
    "    )"
   ]
  },
  {
   "cell_type": "code",
   "execution_count": 8,
   "id": "15ae27a7",
   "metadata": {},
   "outputs": [
    {
     "name": "stdout",
     "output_type": "stream",
     "text": [
      "+----------+--------------+---------+------+---------+------+---------+----------+-------------+--------------------+\n",
      "|      Date|Country/Region|Confirmed|Deaths|Recovered|Active|New cases|New deaths|New recovered|          WHO Region|\n",
      "+----------+--------------+---------+------+---------+------+---------+----------+-------------+--------------------+\n",
      "|2020-01-22|          null|        0|     0|        0|     0|        0|         0|            0|Eastern Mediterra...|\n",
      "|2020-01-22|          null|        0|     0|        0|     0|        0|         0|            0|              Europe|\n",
      "|2020-01-22|          null|        0|     0|        0|     0|        0|         0|            0|              Africa|\n",
      "|2020-01-22|          null|        0|     0|        0|     0|        0|         0|            0|              Europe|\n",
      "|2020-01-22|          null|        0|     0|        0|     0|        0|         0|            0|              Africa|\n",
      "|2020-01-22|          null|        0|     0|        0|     0|        0|         0|            0|            Americas|\n",
      "+----------+--------------+---------+------+---------+------+---------+----------+-------------+--------------------+\n",
      "only showing top 6 rows\n",
      "\n"
     ]
    }
   ],
   "source": [
    "dataFgrouped.show(6)"
   ]
  },
  {
   "cell_type": "markdown",
   "id": "778166b1",
   "metadata": {},
   "source": [
    "### Generando file parquet"
   ]
  },
  {
   "cell_type": "code",
   "execution_count": 9,
   "id": "17730e2f",
   "metadata": {},
   "outputs": [
    {
     "name": "stderr",
     "output_type": "stream",
     "text": [
      "                                                                                \r"
     ]
    }
   ],
   "source": [
    "dataFgrouped.write.save('data/parquets/fullGrouped', format='parquet')"
   ]
  },
  {
   "cell_type": "code",
   "execution_count": 10,
   "id": "01155afb",
   "metadata": {},
   "outputs": [
    {
     "name": "stderr",
     "output_type": "stream",
     "text": [
      "                                                                                \r"
     ]
    },
    {
     "data": {
      "text/html": [
       "<div>\n",
       "<style scoped>\n",
       "    .dataframe tbody tr th:only-of-type {\n",
       "        vertical-align: middle;\n",
       "    }\n",
       "\n",
       "    .dataframe tbody tr th {\n",
       "        vertical-align: top;\n",
       "    }\n",
       "\n",
       "    .dataframe thead th {\n",
       "        text-align: right;\n",
       "    }\n",
       "</style>\n",
       "<table border=\"1\" class=\"dataframe\">\n",
       "  <thead>\n",
       "    <tr style=\"text-align: right;\">\n",
       "      <th></th>\n",
       "      <th>summary</th>\n",
       "      <th>Country/Region</th>\n",
       "      <th>Confirmed</th>\n",
       "      <th>Deaths</th>\n",
       "      <th>Recovered</th>\n",
       "      <th>Active</th>\n",
       "      <th>New cases</th>\n",
       "      <th>New deaths</th>\n",
       "      <th>New recovered</th>\n",
       "      <th>WHO Region</th>\n",
       "    </tr>\n",
       "  </thead>\n",
       "  <tbody>\n",
       "    <tr>\n",
       "      <th>0</th>\n",
       "      <td>count</td>\n",
       "      <td>0</td>\n",
       "      <td>35156</td>\n",
       "      <td>35156</td>\n",
       "      <td>35156</td>\n",
       "      <td>35156</td>\n",
       "      <td>35156</td>\n",
       "      <td>35156</td>\n",
       "      <td>35156</td>\n",
       "      <td>35156</td>\n",
       "    </tr>\n",
       "    <tr>\n",
       "      <th>1</th>\n",
       "      <td>mean</td>\n",
       "      <td>None</td>\n",
       "      <td>23566.631072932076</td>\n",
       "      <td>1234.0682387074753</td>\n",
       "      <td>11048.134856070088</td>\n",
       "      <td>11284.427978154512</td>\n",
       "      <td>469.36375014222324</td>\n",
       "      <td>18.603339401524632</td>\n",
       "      <td>269.3155933553305</td>\n",
       "      <td>None</td>\n",
       "    </tr>\n",
       "    <tr>\n",
       "      <th>2</th>\n",
       "      <td>stddev</td>\n",
       "      <td>None</td>\n",
       "      <td>149981.83525947633</td>\n",
       "      <td>7437.238354073023</td>\n",
       "      <td>64546.400787027786</td>\n",
       "      <td>89971.49411492332</td>\n",
       "      <td>3005.8675397015363</td>\n",
       "      <td>115.70635144984799</td>\n",
       "      <td>2068.063851645146</td>\n",
       "      <td>None</td>\n",
       "    </tr>\n",
       "    <tr>\n",
       "      <th>3</th>\n",
       "      <td>min</td>\n",
       "      <td>None</td>\n",
       "      <td>0</td>\n",
       "      <td>0</td>\n",
       "      <td>0</td>\n",
       "      <td>-2</td>\n",
       "      <td>0</td>\n",
       "      <td>-1918</td>\n",
       "      <td>-16298</td>\n",
       "      <td>Africa</td>\n",
       "    </tr>\n",
       "    <tr>\n",
       "      <th>4</th>\n",
       "      <td>max</td>\n",
       "      <td>None</td>\n",
       "      <td>4290259</td>\n",
       "      <td>148011</td>\n",
       "      <td>1846641</td>\n",
       "      <td>2816444</td>\n",
       "      <td>77255</td>\n",
       "      <td>3887</td>\n",
       "      <td>140050</td>\n",
       "      <td>Western Pacific</td>\n",
       "    </tr>\n",
       "  </tbody>\n",
       "</table>\n",
       "</div>"
      ],
      "text/plain": [
       "  summary Country/Region           Confirmed              Deaths  \\\n",
       "0   count              0               35156               35156   \n",
       "1    mean           None  23566.631072932076  1234.0682387074753   \n",
       "2  stddev           None  149981.83525947633   7437.238354073023   \n",
       "3     min           None                   0                   0   \n",
       "4     max           None             4290259              148011   \n",
       "\n",
       "            Recovered              Active           New cases  \\\n",
       "0               35156               35156               35156   \n",
       "1  11048.134856070088  11284.427978154512  469.36375014222324   \n",
       "2  64546.400787027786   89971.49411492332  3005.8675397015363   \n",
       "3                   0                  -2                   0   \n",
       "4             1846641             2816444               77255   \n",
       "\n",
       "           New deaths      New recovered       WHO Region  \n",
       "0               35156              35156            35156  \n",
       "1  18.603339401524632  269.3155933553305             None  \n",
       "2  115.70635144984799  2068.063851645146             None  \n",
       "3               -1918             -16298           Africa  \n",
       "4                3887             140050  Western Pacific  "
      ]
     },
     "execution_count": 10,
     "metadata": {},
     "output_type": "execute_result"
    }
   ],
   "source": [
    "dataFgrouped.describe().toPandas()"
   ]
  },
  {
   "cell_type": "markdown",
   "id": "eefc4a39",
   "metadata": {},
   "source": [
    "### Agrupando datos por WHO Region"
   ]
  },
  {
   "cell_type": "code",
   "execution_count": 12,
   "id": "35562bcf",
   "metadata": {},
   "outputs": [
    {
     "name": "stdout",
     "output_type": "stream",
     "text": [
      "+--------------------+------------------+------------------+------------------+------------------+\n",
      "|          WHO Region|    avg(Confirmed)|       avg(Deaths)|    avg(Recovered)|       avg(Active)|\n",
      "+--------------------+------------------+------------------+------------------+------------------+\n",
      "|              Europe|23639.797967325227|1830.4559270516718|11702.324753039513|10107.017287234043|\n",
      "|     Western Pacific| 8768.088763297872|309.98337765957444| 6270.595079787234| 2187.510305851064|\n",
      "|              Africa|2414.8744459219856| 48.75642730496454|1240.4399379432625|1125.6780806737588|\n",
      "|Eastern Mediterra...|17911.724371373308| 465.1907640232108|11617.674806576402| 5828.858800773694|\n",
      "|            Americas|61133.920060790275| 2942.141641337386|23870.736170212767| 34321.04224924012|\n",
      "|     South-East Asia| 29318.27925531915| 775.6031914893617|15973.578191489361|12569.097872340426|\n",
      "+--------------------+------------------+------------------+------------------+------------------+\n",
      "\n"
     ]
    }
   ],
   "source": [
    "dataFgrouped.select(['WHO Region', 'Confirmed', 'Deaths', 'Recovered', 'Active']).groupBy('WHO Region').mean().show()"
   ]
  },
  {
   "cell_type": "markdown",
   "id": "5dee83fd",
   "metadata": {},
   "source": [
    "### Visualizando datos"
   ]
  },
  {
   "cell_type": "code",
   "execution_count": 13,
   "id": "42b36413",
   "metadata": {},
   "outputs": [],
   "source": [
    "sec_df =  dataFgrouped.select(['WHO Region', 'Confirmed', 'Deaths', 'Recovered', 'Active']).groupBy('WHO Region').mean().toPandas()"
   ]
  },
  {
   "cell_type": "code",
   "execution_count": 14,
   "id": "c7cc80ca",
   "metadata": {},
   "outputs": [
    {
     "data": {
      "text/html": [
       "<div>\n",
       "<style scoped>\n",
       "    .dataframe tbody tr th:only-of-type {\n",
       "        vertical-align: middle;\n",
       "    }\n",
       "\n",
       "    .dataframe tbody tr th {\n",
       "        vertical-align: top;\n",
       "    }\n",
       "\n",
       "    .dataframe thead th {\n",
       "        text-align: right;\n",
       "    }\n",
       "</style>\n",
       "<table border=\"1\" class=\"dataframe\">\n",
       "  <thead>\n",
       "    <tr style=\"text-align: right;\">\n",
       "      <th></th>\n",
       "      <th>WHO Region</th>\n",
       "      <th>avg(Confirmed)</th>\n",
       "      <th>avg(Deaths)</th>\n",
       "      <th>avg(Recovered)</th>\n",
       "      <th>avg(Active)</th>\n",
       "    </tr>\n",
       "  </thead>\n",
       "  <tbody>\n",
       "    <tr>\n",
       "      <th>0</th>\n",
       "      <td>Europe</td>\n",
       "      <td>23639.797967</td>\n",
       "      <td>1830.455927</td>\n",
       "      <td>11702.324753</td>\n",
       "      <td>10107.017287</td>\n",
       "    </tr>\n",
       "    <tr>\n",
       "      <th>1</th>\n",
       "      <td>Western Pacific</td>\n",
       "      <td>8768.088763</td>\n",
       "      <td>309.983378</td>\n",
       "      <td>6270.595080</td>\n",
       "      <td>2187.510306</td>\n",
       "    </tr>\n",
       "    <tr>\n",
       "      <th>2</th>\n",
       "      <td>Africa</td>\n",
       "      <td>2414.874446</td>\n",
       "      <td>48.756427</td>\n",
       "      <td>1240.439938</td>\n",
       "      <td>1125.678081</td>\n",
       "    </tr>\n",
       "    <tr>\n",
       "      <th>3</th>\n",
       "      <td>Eastern Mediterranean</td>\n",
       "      <td>17911.724371</td>\n",
       "      <td>465.190764</td>\n",
       "      <td>11617.674807</td>\n",
       "      <td>5828.858801</td>\n",
       "    </tr>\n",
       "    <tr>\n",
       "      <th>4</th>\n",
       "      <td>Americas</td>\n",
       "      <td>61133.920061</td>\n",
       "      <td>2942.141641</td>\n",
       "      <td>23870.736170</td>\n",
       "      <td>34321.042249</td>\n",
       "    </tr>\n",
       "    <tr>\n",
       "      <th>5</th>\n",
       "      <td>South-East Asia</td>\n",
       "      <td>29318.279255</td>\n",
       "      <td>775.603191</td>\n",
       "      <td>15973.578191</td>\n",
       "      <td>12569.097872</td>\n",
       "    </tr>\n",
       "  </tbody>\n",
       "</table>\n",
       "</div>"
      ],
      "text/plain": [
       "              WHO Region  avg(Confirmed)  avg(Deaths)  avg(Recovered)  \\\n",
       "0                 Europe    23639.797967  1830.455927    11702.324753   \n",
       "1        Western Pacific     8768.088763   309.983378     6270.595080   \n",
       "2                 Africa     2414.874446    48.756427     1240.439938   \n",
       "3  Eastern Mediterranean    17911.724371   465.190764    11617.674807   \n",
       "4               Americas    61133.920061  2942.141641    23870.736170   \n",
       "5        South-East Asia    29318.279255   775.603191    15973.578191   \n",
       "\n",
       "    avg(Active)  \n",
       "0  10107.017287  \n",
       "1   2187.510306  \n",
       "2   1125.678081  \n",
       "3   5828.858801  \n",
       "4  34321.042249  \n",
       "5  12569.097872  "
      ]
     },
     "execution_count": 14,
     "metadata": {},
     "output_type": "execute_result"
    }
   ],
   "source": [
    "sec_df"
   ]
  },
  {
   "cell_type": "code",
   "execution_count": 16,
   "id": "4752c70c",
   "metadata": {},
   "outputs": [
    {
     "data": {
      "text/plain": [
       "<AxesSubplot:xlabel='WHO Region'>"
      ]
     },
     "execution_count": 16,
     "metadata": {},
     "output_type": "execute_result"
    },
    {
     "data": {
      "image/png": "[encoded data removed]",
      "text/plain": [
       "<Figure size 864x432 with 1 Axes>"
      ]
     },
     "metadata": {
      "needs_background": "light"
     },
     "output_type": "display_data"
    }
   ],
   "source": [
    "sec_df.plot(kind = 'bar', x='WHO Region', y = sec_df.columns.tolist()[1:], figsize=(12, 6))"
   ]
  },
  {
   "cell_type": "code",
   "execution_count": 20,
   "id": "07b34c88",
   "metadata": {},
   "outputs": [],
   "source": [
    "from pyspark.sql.functions import col, lit"
   ]
  },
  {
   "cell_type": "code",
   "execution_count": 27,
   "id": "a67a0339",
   "metadata": {},
   "outputs": [],
   "source": [
    "dataFilter = dataFgrouped.filter( (col('WHO Region') == 'Europe') )"
   ]
  },
  {
   "cell_type": "code",
   "execution_count": 28,
   "id": "b90acc84",
   "metadata": {},
   "outputs": [
    {
     "name": "stdout",
     "output_type": "stream",
     "text": [
      "+----------+--------------+---------+------+---------+------+---------+----------+-------------+----------+\n",
      "|      Date|Country/Region|Confirmed|Deaths|Recovered|Active|New cases|New deaths|New recovered|WHO Region|\n",
      "+----------+--------------+---------+------+---------+------+---------+----------+-------------+----------+\n",
      "|2020-01-22|          null|        0|     0|        0|     0|        0|         0|            0|    Europe|\n",
      "|2020-01-22|          null|        0|     0|        0|     0|        0|         0|            0|    Europe|\n",
      "|2020-01-22|          null|        0|     0|        0|     0|        0|         0|            0|    Europe|\n",
      "|2020-01-22|          null|        0|     0|        0|     0|        0|         0|            0|    Europe|\n",
      "|2020-01-22|          null|        0|     0|        0|     0|        0|         0|            0|    Europe|\n",
      "|2020-01-22|          null|        0|     0|        0|     0|        0|         0|            0|    Europe|\n",
      "|2020-01-22|          null|        0|     0|        0|     0|        0|         0|            0|    Europe|\n",
      "|2020-01-22|          null|        0|     0|        0|     0|        0|         0|            0|    Europe|\n",
      "|2020-01-22|          null|        0|     0|        0|     0|        0|         0|            0|    Europe|\n",
      "|2020-01-22|          null|        0|     0|        0|     0|        0|         0|            0|    Europe|\n",
      "|2020-01-22|          null|        0|     0|        0|     0|        0|         0|            0|    Europe|\n",
      "|2020-01-22|          null|        0|     0|        0|     0|        0|         0|            0|    Europe|\n",
      "|2020-01-22|          null|        0|     0|        0|     0|        0|         0|            0|    Europe|\n",
      "|2020-01-22|          null|        0|     0|        0|     0|        0|         0|            0|    Europe|\n",
      "|2020-01-22|          null|        0|     0|        0|     0|        0|         0|            0|    Europe|\n",
      "|2020-01-22|          null|        0|     0|        0|     0|        0|         0|            0|    Europe|\n",
      "|2020-01-22|          null|        0|     0|        0|     0|        0|         0|            0|    Europe|\n",
      "|2020-01-22|          null|        0|     0|        0|     0|        0|         0|            0|    Europe|\n",
      "|2020-01-22|          null|        0|     0|        0|     0|        0|         0|            0|    Europe|\n",
      "|2020-01-22|          null|        0|     0|        0|     0|        0|         0|            0|    Europe|\n",
      "+----------+--------------+---------+------+---------+------+---------+----------+-------------+----------+\n",
      "only showing top 20 rows\n",
      "\n"
     ]
    }
   ],
   "source": [
    "dataFilter.show()"
   ]
  },
  {
   "cell_type": "code",
   "execution_count": 25,
   "id": "a78c5951",
   "metadata": {},
   "outputs": [
    {
     "name": "stderr",
     "output_type": "stream",
     "text": [
      "                                                                                \r"
     ]
    }
   ],
   "source": [
    "sec_df1 =  dataFilter.select(['Country/Region', 'Deaths', 'Active', 'New cases']).groupBy('Country/Region').mean().toPandas()"
   ]
  },
  {
   "cell_type": "code",
   "execution_count": 26,
   "id": "897de7da",
   "metadata": {},
   "outputs": [
    {
     "data": {
      "text/html": [
       "<div>\n",
       "<style scoped>\n",
       "    .dataframe tbody tr th:only-of-type {\n",
       "        vertical-align: middle;\n",
       "    }\n",
       "\n",
       "    .dataframe tbody tr th {\n",
       "        vertical-align: top;\n",
       "    }\n",
       "\n",
       "    .dataframe thead th {\n",
       "        text-align: right;\n",
       "    }\n",
       "</style>\n",
       "<table border=\"1\" class=\"dataframe\">\n",
       "  <thead>\n",
       "    <tr style=\"text-align: right;\">\n",
       "      <th></th>\n",
       "      <th>Country/Region</th>\n",
       "      <th>avg(Country/Region)</th>\n",
       "      <th>avg(Deaths)</th>\n",
       "      <th>avg(Active)</th>\n",
       "      <th>avg(New cases)</th>\n",
       "    </tr>\n",
       "  </thead>\n",
       "  <tbody>\n",
       "    <tr>\n",
       "      <th>0</th>\n",
       "      <td>NaN</td>\n",
       "      <td>NaN</td>\n",
       "      <td>2942.141641</td>\n",
       "      <td>34321.042249</td>\n",
       "      <td>1343.838146</td>\n",
       "    </tr>\n",
       "  </tbody>\n",
       "</table>\n",
       "</div>"
      ],
      "text/plain": [
       "   Country/Region  avg(Country/Region)  avg(Deaths)   avg(Active)  \\\n",
       "0             NaN                  NaN  2942.141641  34321.042249   \n",
       "\n",
       "   avg(New cases)  \n",
       "0     1343.838146  "
      ]
     },
     "execution_count": 26,
     "metadata": {},
     "output_type": "execute_result"
    }
   ],
   "source": [
    "sec_df1"
   ]
  }
 ],
 "metadata": {
  "kernelspec": {
   "display_name": "Python 3 (ipykernel)",
   "language": "python",
   "name": "python3"
  },
  "language_info": {
   "codemirror_mode": {
    "name": "ipython",
    "version": 3
   },
   "file_extension": ".py",
   "mimetype": "text/x-python",
   "name": "python",
   "nbconvert_exporter": "python",
   "pygments_lexer": "ipython3",
   "version": "3.9.12"
  }
 },
 "nbformat": 4,
 "nbformat_minor": 5
}
